{
  "nbformat": 4,
  "nbformat_minor": 0,
  "metadata": {
    "colab": {
      "name": "NLP - Chatbot ingles",
      "provenance": [],
      "authorship_tag": "ABX9TyPCI8oxvj9BZuSHJWf5RXTb",
      "include_colab_link": true
    },
    "kernelspec": {
      "name": "python3",
      "display_name": "Python 3"
    }
  },
  "cells": [
    {
      "cell_type": "markdown",
      "metadata": {
        "id": "view-in-github",
        "colab_type": "text"
      },
      "source": [
        "<a href=\"https://colab.research.google.com/github/EduardoMoraesRitter/NLP-Chatbot/blob/main/NLP_Chatbot_ingles.ipynb\" target=\"_parent\"><img src=\"https://colab.research.google.com/assets/colab-badge.svg\" alt=\"Open In Colab\"/></a>"
      ]
    },
    {
      "cell_type": "markdown",
      "metadata": {
        "id": "fvHQa9Czwh2c"
      },
      "source": [
        "#NLP"
      ]
    },
    {
      "cell_type": "code",
      "metadata": {
        "colab": {
          "base_uri": "https://localhost:8080/"
        },
        "id": "ZykKbNzrDLDz",
        "outputId": "434f8ed2-5e92-4939-bfb7-cc68712c0c8c"
      },
      "source": [
        "dados = {\"intents\":[\n",
        "            {\n",
        "                \"tag\":\"greetings\",\n",
        "                \"patterns\": [\"Hello\", \"hey\", \"HI?\", \"good day\", \"hi good morning?\"],\n",
        "                \"responses\": [\"Hellou!\", \"what can i do for you?\"]\n",
        "            },\n",
        "            {\n",
        "                \"tag\":\"goodbye\",\n",
        "                \"patterns\": [\"goodbye\", \"cya\", \"see you\", \"bye\"],\n",
        "                \"responses\": [\"Goodbye!\"]\n",
        "            }\n",
        "]}\n",
        "\n",
        "dados"
      ],
      "execution_count": 1,
      "outputs": [
        {
          "output_type": "execute_result",
          "data": {
            "text/plain": [
              "{'intents': [{'patterns': ['Hello',\n",
              "    'hey',\n",
              "    'HI?',\n",
              "    'good day',\n",
              "    'hi good morning?'],\n",
              "   'responses': ['Hellou!', 'what can i do for you?'],\n",
              "   'tag': 'greetings'},\n",
              "  {'patterns': ['goodbye', 'cya', 'see you', 'bye'],\n",
              "   'responses': ['Goodbye!'],\n",
              "   'tag': 'goodbye'}]}"
            ]
          },
          "metadata": {},
          "execution_count": 1
        }
      ]
    },
    {
      "cell_type": "code",
      "metadata": {
        "id": "xEeMRa8wDQYs"
      },
      "source": [
        "import random\n",
        "import json\n",
        "import pickle\n",
        "import numpy as np"
      ],
      "execution_count": 2,
      "outputs": []
    },
    {
      "cell_type": "code",
      "metadata": {
        "id": "qQlACWTddThS"
      },
      "source": [
        "import nltk\n",
        "from nltk.stem import WordNetLemmatizer"
      ],
      "execution_count": 3,
      "outputs": []
    },
    {
      "cell_type": "code",
      "metadata": {
        "id": "Os6GJg7mdeko"
      },
      "source": [
        "from tensorflow.keras.models import Sequential\n",
        "from tensorflow.keras.layers import Dense, Activation, Dropout\n",
        "from tensorflow.keras.optimizers import SGD"
      ],
      "execution_count": 4,
      "outputs": []
    },
    {
      "cell_type": "code",
      "metadata": {
        "id": "87RPWtg9eDR6"
      },
      "source": [
        "lemmatizer = WordNetLemmatizer()"
      ],
      "execution_count": 5,
      "outputs": []
    },
    {
      "cell_type": "code",
      "metadata": {
        "id": "gKpf1vwIeMmh"
      },
      "source": [
        "#instents = json.loads(open('instens.json').read())\n",
        "intents = dados"
      ],
      "execution_count": 6,
      "outputs": []
    },
    {
      "cell_type": "code",
      "metadata": {
        "colab": {
          "base_uri": "https://localhost:8080/"
        },
        "id": "f8UvCiQLRfQs",
        "outputId": "e577b254-6b72-4f01-a9ff-80ae7e8376a0"
      },
      "source": [
        "nltk.download('wordnet')\n",
        "nltk.download('punkt')"
      ],
      "execution_count": 7,
      "outputs": [
        {
          "output_type": "stream",
          "name": "stdout",
          "text": [
            "[nltk_data] Downloading package wordnet to /root/nltk_data...\n",
            "[nltk_data]   Unzipping corpora/wordnet.zip.\n",
            "[nltk_data] Downloading package punkt to /root/nltk_data...\n",
            "[nltk_data]   Unzipping tokenizers/punkt.zip.\n"
          ]
        },
        {
          "output_type": "execute_result",
          "data": {
            "text/plain": [
              "True"
            ]
          },
          "metadata": {},
          "execution_count": 7
        }
      ]
    },
    {
      "cell_type": "code",
      "metadata": {
        "id": "MKR-DVbQhFkV"
      },
      "source": [
        "words = []\n",
        "classes = []\n",
        "documents = []\n",
        "ignore_letters = ['?', '!', '.', ',']"
      ],
      "execution_count": 8,
      "outputs": []
    },
    {
      "cell_type": "code",
      "metadata": {
        "colab": {
          "base_uri": "https://localhost:8080/"
        },
        "id": "y6QyUmMyPtWw",
        "outputId": "ec71bbe9-e19b-4715-8e00-8f65bc83f197"
      },
      "source": [
        "#teste de token\n",
        "nltk.word_tokenize(\"see you\")"
      ],
      "execution_count": 9,
      "outputs": [
        {
          "output_type": "execute_result",
          "data": {
            "text/plain": [
              "['see', 'you']"
            ]
          },
          "metadata": {},
          "execution_count": 9
        }
      ]
    },
    {
      "cell_type": "code",
      "metadata": {
        "id": "f3_9A6BkiHN3"
      },
      "source": [
        "# for intent in intents['intents']:\n",
        "#     for pattern in intent['patterns']:\n",
        "#       word_list = nltk.word_tokenize(pattern)\n",
        "#       words.append(word_list)\n",
        "#       documents.append((word_list, intent['tag']))\n",
        "#       if intent['tag'] not in classes:\n",
        "#         classes.append(intent['tag'])\n",
        "\n",
        "# print(documents)"
      ],
      "execution_count": 10,
      "outputs": []
    },
    {
      "cell_type": "code",
      "metadata": {
        "colab": {
          "base_uri": "https://localhost:8080/"
        },
        "id": "bwNJikVkjQaG",
        "outputId": "15aa0bb0-30c5-400c-d801-3cebd03706e1"
      },
      "source": [
        "for intent in intents['intents']:\n",
        "    for pattern in intent['patterns']:\n",
        "      word_list = nltk.word_tokenize(pattern)\n",
        "      words.extend(word_list)\n",
        "      documents.append((word_list, intent['tag']))\n",
        "      if intent['tag'] not in classes:\n",
        "        classes.append(intent['tag'])\n",
        "\n",
        "words = [lemmatizer.lemmatize(word) for word in words if word not in ignore_letters]\n",
        "words = sorted(set(words))\n",
        "\n",
        "print(words)"
      ],
      "execution_count": 11,
      "outputs": [
        {
          "output_type": "stream",
          "name": "stdout",
          "text": [
            "['HI', 'Hello', 'bye', 'cya', 'day', 'good', 'goodbye', 'hey', 'hi', 'morning', 'see', 'you']\n"
          ]
        }
      ]
    },
    {
      "cell_type": "code",
      "metadata": {
        "colab": {
          "base_uri": "https://localhost:8080/"
        },
        "id": "nmgJlGvZRK8g",
        "outputId": "2f5b5540-9826-49f5-ba37-2d38dd88fdfd"
      },
      "source": [
        "for intent in intents['intents']:\n",
        "    for pattern in intent['patterns']:\n",
        "      word_list = nltk.word_tokenize(pattern)\n",
        "      words.extend(word_list)\n",
        "      documents.append((word_list, intent['tag']))\n",
        "      if intent['tag'] not in classes:\n",
        "        classes.append(intent['tag'])\n",
        "\n",
        "words = [lemmatizer.lemmatize(word) for word in words if word not in ignore_letters]\n",
        "words = sorted(set(words))\n",
        "\n",
        "classes = sorted(set(classes))\n",
        "\n",
        "pickle.dump(words, open(\"words.pkl\", \"wb\"))\n",
        "pickle.dump(classes, open(\"classes.pkl\", \"wb\"))\n",
        "\n",
        "documents"
      ],
      "execution_count": 12,
      "outputs": [
        {
          "output_type": "execute_result",
          "data": {
            "text/plain": [
              "[(['Hello'], 'greetings'),\n",
              " (['hey'], 'greetings'),\n",
              " (['HI', '?'], 'greetings'),\n",
              " (['good', 'day'], 'greetings'),\n",
              " (['hi', 'good', 'morning', '?'], 'greetings'),\n",
              " (['goodbye'], 'goodbye'),\n",
              " (['cya'], 'goodbye'),\n",
              " (['see', 'you'], 'goodbye'),\n",
              " (['bye'], 'goodbye'),\n",
              " (['Hello'], 'greetings'),\n",
              " (['hey'], 'greetings'),\n",
              " (['HI', '?'], 'greetings'),\n",
              " (['good', 'day'], 'greetings'),\n",
              " (['hi', 'good', 'morning', '?'], 'greetings'),\n",
              " (['goodbye'], 'goodbye'),\n",
              " (['cya'], 'goodbye'),\n",
              " (['see', 'you'], 'goodbye'),\n",
              " (['bye'], 'goodbye')]"
            ]
          },
          "metadata": {},
          "execution_count": 12
        }
      ]
    },
    {
      "cell_type": "code",
      "metadata": {
        "colab": {
          "base_uri": "https://localhost:8080/"
        },
        "id": "CbghhYztSZ39",
        "outputId": "5045fac4-6733-4ba9-dba2-8171fffda805"
      },
      "source": [
        "training = []\n",
        "output_empty = [0] * len(classes)\n",
        "\n",
        "for document in documents:\n",
        "  bag = []\n",
        "  word_patterns = documents[0]\n",
        "  word_patterns = [lemmatizer.lemmatize(word[0].lower()) for word in word_patterns]\n",
        "  for word in words:\n",
        "    bag.append(1) if word in word_patterns else bag.append(0)\n",
        "\n",
        "  output_row = list(output_empty)\n",
        "  output_row[classes.index(document[1])] = 1\n",
        "  training.append([bag, output_row])\n",
        "\n",
        "random.shuffle(training)\n",
        "training = np.array(training)\n",
        "\n",
        "train_x = list(training[:, 0])\n",
        "train_y = list(training[:, 1])\n",
        "\n",
        "training"
      ],
      "execution_count": 13,
      "outputs": [
        {
          "output_type": "stream",
          "name": "stderr",
          "text": [
            "/usr/local/lib/python3.7/dist-packages/ipykernel_launcher.py:16: VisibleDeprecationWarning: Creating an ndarray from ragged nested sequences (which is a list-or-tuple of lists-or-tuples-or ndarrays with different lengths or shapes) is deprecated. If you meant to do this, you must specify 'dtype=object' when creating the ndarray\n",
            "  app.launch_new_instance()\n"
          ]
        },
        {
          "output_type": "execute_result",
          "data": {
            "text/plain": [
              "array([[list([0, 0, 0, 0, 0, 0, 0, 0, 0, 0, 0, 0]), list([0, 1])],\n",
              "       [list([0, 0, 0, 0, 0, 0, 0, 0, 0, 0, 0, 0]), list([1, 0])],\n",
              "       [list([0, 0, 0, 0, 0, 0, 0, 0, 0, 0, 0, 0]), list([1, 0])],\n",
              "       [list([0, 0, 0, 0, 0, 0, 0, 0, 0, 0, 0, 0]), list([0, 1])],\n",
              "       [list([0, 0, 0, 0, 0, 0, 0, 0, 0, 0, 0, 0]), list([1, 0])],\n",
              "       [list([0, 0, 0, 0, 0, 0, 0, 0, 0, 0, 0, 0]), list([0, 1])],\n",
              "       [list([0, 0, 0, 0, 0, 0, 0, 0, 0, 0, 0, 0]), list([0, 1])],\n",
              "       [list([0, 0, 0, 0, 0, 0, 0, 0, 0, 0, 0, 0]), list([0, 1])],\n",
              "       [list([0, 0, 0, 0, 0, 0, 0, 0, 0, 0, 0, 0]), list([0, 1])],\n",
              "       [list([0, 0, 0, 0, 0, 0, 0, 0, 0, 0, 0, 0]), list([1, 0])],\n",
              "       [list([0, 0, 0, 0, 0, 0, 0, 0, 0, 0, 0, 0]), list([1, 0])],\n",
              "       [list([0, 0, 0, 0, 0, 0, 0, 0, 0, 0, 0, 0]), list([1, 0])],\n",
              "       [list([0, 0, 0, 0, 0, 0, 0, 0, 0, 0, 0, 0]), list([0, 1])],\n",
              "       [list([0, 0, 0, 0, 0, 0, 0, 0, 0, 0, 0, 0]), list([0, 1])],\n",
              "       [list([0, 0, 0, 0, 0, 0, 0, 0, 0, 0, 0, 0]), list([1, 0])],\n",
              "       [list([0, 0, 0, 0, 0, 0, 0, 0, 0, 0, 0, 0]), list([0, 1])],\n",
              "       [list([0, 0, 0, 0, 0, 0, 0, 0, 0, 0, 0, 0]), list([0, 1])],\n",
              "       [list([0, 0, 0, 0, 0, 0, 0, 0, 0, 0, 0, 0]), list([1, 0])]],\n",
              "      dtype=object)"
            ]
          },
          "metadata": {},
          "execution_count": 13
        }
      ]
    },
    {
      "cell_type": "code",
      "metadata": {
        "id": "reV_CX2QVffG",
        "colab": {
          "base_uri": "https://localhost:8080/"
        },
        "outputId": "aa8c8e23-0319-4431-9e3b-91c6714db8e1"
      },
      "source": [
        "model = Sequential()\n",
        "model.add(Dense(128, input_shape=(len(train_x[0]),), activation='relu'))\n",
        "model.add(Dropout(0.5))\n",
        "model.add(Dense(64, activation='relu'))\n",
        "model.add(Dropout(0.5))\n",
        "model.add(Dense(len(train_y[0]), activation='softmax'))\n",
        "\n",
        "sqb = SGD(lr=0.01, decay=1e-6, momentum=0.9, nesterov=True)\n",
        "model.compile(loss='categorical_crossentropy', optimizer=sqb, metrics=['accuracy'])\n",
        "\n",
        "model.fit(np.array(train_x), np.array(train_y), epochs=200, batch_size=5, verbose=1)\n",
        "model.save('model_nlp')"
      ],
      "execution_count": 14,
      "outputs": [
        {
          "output_type": "stream",
          "name": "stderr",
          "text": [
            "/usr/local/lib/python3.7/dist-packages/keras/optimizer_v2/optimizer_v2.py:356: UserWarning: The `lr` argument is deprecated, use `learning_rate` instead.\n",
            "  \"The `lr` argument is deprecated, use `learning_rate` instead.\")\n"
          ]
        },
        {
          "output_type": "stream",
          "name": "stdout",
          "text": [
            "Epoch 1/200\n",
            "4/4 [==============================] - 1s 3ms/step - loss: 0.6937 - accuracy: 0.3889\n",
            "Epoch 2/200\n",
            "4/4 [==============================] - 0s 3ms/step - loss: 0.6939 - accuracy: 0.3889\n",
            "Epoch 3/200\n",
            "4/4 [==============================] - 0s 4ms/step - loss: 0.6930 - accuracy: 0.5556\n",
            "Epoch 4/200\n",
            "4/4 [==============================] - 0s 3ms/step - loss: 0.6910 - accuracy: 0.5556\n",
            "Epoch 5/200\n",
            "4/4 [==============================] - 0s 4ms/step - loss: 0.6903 - accuracy: 0.5556\n",
            "Epoch 6/200\n",
            "4/4 [==============================] - 0s 4ms/step - loss: 0.6907 - accuracy: 0.5556\n",
            "Epoch 7/200\n",
            "4/4 [==============================] - 0s 4ms/step - loss: 0.6884 - accuracy: 0.5556\n",
            "Epoch 8/200\n",
            "4/4 [==============================] - 0s 3ms/step - loss: 0.6884 - accuracy: 0.5556\n",
            "Epoch 9/200\n",
            "4/4 [==============================] - 0s 3ms/step - loss: 0.6876 - accuracy: 0.5556\n",
            "Epoch 10/200\n",
            "4/4 [==============================] - 0s 7ms/step - loss: 0.6876 - accuracy: 0.5556\n",
            "Epoch 11/200\n",
            "4/4 [==============================] - 0s 3ms/step - loss: 0.6887 - accuracy: 0.5556\n",
            "Epoch 12/200\n",
            "4/4 [==============================] - 0s 4ms/step - loss: 0.6881 - accuracy: 0.5556\n",
            "Epoch 13/200\n",
            "4/4 [==============================] - 0s 4ms/step - loss: 0.6886 - accuracy: 0.5556\n",
            "Epoch 14/200\n",
            "4/4 [==============================] - 0s 4ms/step - loss: 0.6879 - accuracy: 0.5556\n",
            "Epoch 15/200\n",
            "4/4 [==============================] - 0s 3ms/step - loss: 0.6871 - accuracy: 0.5556\n",
            "Epoch 16/200\n",
            "4/4 [==============================] - 0s 3ms/step - loss: 0.6873 - accuracy: 0.5556\n",
            "Epoch 17/200\n",
            "4/4 [==============================] - 0s 3ms/step - loss: 0.6896 - accuracy: 0.5556\n",
            "Epoch 18/200\n",
            "4/4 [==============================] - 0s 12ms/step - loss: 0.6876 - accuracy: 0.5556\n",
            "Epoch 19/200\n",
            "4/4 [==============================] - 0s 4ms/step - loss: 0.6888 - accuracy: 0.5556\n",
            "Epoch 20/200\n",
            "4/4 [==============================] - 0s 5ms/step - loss: 0.6881 - accuracy: 0.5556\n",
            "Epoch 21/200\n",
            "4/4 [==============================] - 0s 3ms/step - loss: 0.6871 - accuracy: 0.5556\n",
            "Epoch 22/200\n",
            "4/4 [==============================] - 0s 7ms/step - loss: 0.6874 - accuracy: 0.5556\n",
            "Epoch 23/200\n",
            "4/4 [==============================] - 0s 4ms/step - loss: 0.6896 - accuracy: 0.5556\n",
            "Epoch 24/200\n",
            "4/4 [==============================] - 0s 5ms/step - loss: 0.6903 - accuracy: 0.5556\n",
            "Epoch 25/200\n",
            "4/4 [==============================] - 0s 10ms/step - loss: 0.6877 - accuracy: 0.5556\n",
            "Epoch 26/200\n",
            "4/4 [==============================] - 0s 3ms/step - loss: 0.6876 - accuracy: 0.5556\n",
            "Epoch 27/200\n",
            "4/4 [==============================] - 0s 3ms/step - loss: 0.6876 - accuracy: 0.5556\n",
            "Epoch 28/200\n",
            "4/4 [==============================] - 0s 4ms/step - loss: 0.6896 - accuracy: 0.5556\n",
            "Epoch 29/200\n",
            "4/4 [==============================] - 0s 3ms/step - loss: 0.6888 - accuracy: 0.5556\n",
            "Epoch 30/200\n",
            "4/4 [==============================] - 0s 3ms/step - loss: 0.6903 - accuracy: 0.5556\n",
            "Epoch 31/200\n",
            "4/4 [==============================] - 0s 3ms/step - loss: 0.6880 - accuracy: 0.5556\n",
            "Epoch 32/200\n",
            "4/4 [==============================] - 0s 4ms/step - loss: 0.6886 - accuracy: 0.5556\n",
            "Epoch 33/200\n",
            "4/4 [==============================] - 0s 3ms/step - loss: 0.6903 - accuracy: 0.5556\n",
            "Epoch 34/200\n",
            "4/4 [==============================] - 0s 3ms/step - loss: 0.6882 - accuracy: 0.5556\n",
            "Epoch 35/200\n",
            "4/4 [==============================] - 0s 3ms/step - loss: 0.6887 - accuracy: 0.5556\n",
            "Epoch 36/200\n",
            "4/4 [==============================] - 0s 3ms/step - loss: 0.6873 - accuracy: 0.5556\n",
            "Epoch 37/200\n",
            "4/4 [==============================] - 0s 4ms/step - loss: 0.6881 - accuracy: 0.5556\n",
            "Epoch 38/200\n",
            "4/4 [==============================] - 0s 4ms/step - loss: 0.6879 - accuracy: 0.5556\n",
            "Epoch 39/200\n",
            "4/4 [==============================] - 0s 3ms/step - loss: 0.6869 - accuracy: 0.5556\n",
            "Epoch 40/200\n",
            "4/4 [==============================] - 0s 4ms/step - loss: 0.6875 - accuracy: 0.5556\n",
            "Epoch 41/200\n",
            "4/4 [==============================] - 0s 4ms/step - loss: 0.6888 - accuracy: 0.5556\n",
            "Epoch 42/200\n",
            "4/4 [==============================] - 0s 4ms/step - loss: 0.6879 - accuracy: 0.5556\n",
            "Epoch 43/200\n",
            "4/4 [==============================] - 0s 5ms/step - loss: 0.6875 - accuracy: 0.5556\n",
            "Epoch 44/200\n",
            "4/4 [==============================] - 0s 4ms/step - loss: 0.6876 - accuracy: 0.5556\n",
            "Epoch 45/200\n",
            "4/4 [==============================] - 0s 6ms/step - loss: 0.6886 - accuracy: 0.5556\n",
            "Epoch 46/200\n",
            "4/4 [==============================] - 0s 4ms/step - loss: 0.6875 - accuracy: 0.5556\n",
            "Epoch 47/200\n",
            "4/4 [==============================] - 0s 4ms/step - loss: 0.6871 - accuracy: 0.5556\n",
            "Epoch 48/200\n",
            "4/4 [==============================] - 0s 3ms/step - loss: 0.6886 - accuracy: 0.5556\n",
            "Epoch 49/200\n",
            "4/4 [==============================] - 0s 3ms/step - loss: 0.6874 - accuracy: 0.5556\n",
            "Epoch 50/200\n",
            "4/4 [==============================] - 0s 3ms/step - loss: 0.6880 - accuracy: 0.5556\n",
            "Epoch 51/200\n",
            "4/4 [==============================] - 0s 3ms/step - loss: 0.6873 - accuracy: 0.5556\n",
            "Epoch 52/200\n",
            "4/4 [==============================] - 0s 3ms/step - loss: 0.6883 - accuracy: 0.5556\n",
            "Epoch 53/200\n",
            "4/4 [==============================] - 0s 4ms/step - loss: 0.6875 - accuracy: 0.5556\n",
            "Epoch 54/200\n",
            "4/4 [==============================] - 0s 4ms/step - loss: 0.6876 - accuracy: 0.5556\n",
            "Epoch 55/200\n",
            "4/4 [==============================] - 0s 3ms/step - loss: 0.6889 - accuracy: 0.5556\n",
            "Epoch 56/200\n",
            "4/4 [==============================] - 0s 3ms/step - loss: 0.6875 - accuracy: 0.5556\n",
            "Epoch 57/200\n",
            "4/4 [==============================] - 0s 4ms/step - loss: 0.6869 - accuracy: 0.5556\n",
            "Epoch 58/200\n",
            "4/4 [==============================] - 0s 4ms/step - loss: 0.6869 - accuracy: 0.5556\n",
            "Epoch 59/200\n",
            "4/4 [==============================] - 0s 3ms/step - loss: 0.6882 - accuracy: 0.5556\n",
            "Epoch 60/200\n",
            "4/4 [==============================] - 0s 3ms/step - loss: 0.6877 - accuracy: 0.5556\n",
            "Epoch 61/200\n",
            "4/4 [==============================] - 0s 5ms/step - loss: 0.6874 - accuracy: 0.5556\n",
            "Epoch 62/200\n",
            "4/4 [==============================] - 0s 6ms/step - loss: 0.6880 - accuracy: 0.5556\n",
            "Epoch 63/200\n",
            "4/4 [==============================] - 0s 4ms/step - loss: 0.6891 - accuracy: 0.5556\n",
            "Epoch 64/200\n",
            "4/4 [==============================] - 0s 4ms/step - loss: 0.6871 - accuracy: 0.5556\n",
            "Epoch 65/200\n",
            "4/4 [==============================] - 0s 4ms/step - loss: 0.6875 - accuracy: 0.5556\n",
            "Epoch 66/200\n",
            "4/4 [==============================] - 0s 3ms/step - loss: 0.6871 - accuracy: 0.5556\n",
            "Epoch 67/200\n",
            "4/4 [==============================] - 0s 4ms/step - loss: 0.6874 - accuracy: 0.5556\n",
            "Epoch 68/200\n",
            "4/4 [==============================] - 0s 5ms/step - loss: 0.6875 - accuracy: 0.5556\n",
            "Epoch 69/200\n",
            "4/4 [==============================] - 0s 6ms/step - loss: 0.6872 - accuracy: 0.5556\n",
            "Epoch 70/200\n",
            "4/4 [==============================] - 0s 3ms/step - loss: 0.6880 - accuracy: 0.5556\n",
            "Epoch 71/200\n",
            "4/4 [==============================] - 0s 3ms/step - loss: 0.6887 - accuracy: 0.5556\n",
            "Epoch 72/200\n",
            "4/4 [==============================] - 0s 3ms/step - loss: 0.6877 - accuracy: 0.5556\n",
            "Epoch 73/200\n",
            "4/4 [==============================] - 0s 3ms/step - loss: 0.6884 - accuracy: 0.5556\n",
            "Epoch 74/200\n",
            "4/4 [==============================] - 0s 3ms/step - loss: 0.6899 - accuracy: 0.5556\n",
            "Epoch 75/200\n",
            "4/4 [==============================] - 0s 3ms/step - loss: 0.6880 - accuracy: 0.5556\n",
            "Epoch 76/200\n",
            "4/4 [==============================] - 0s 4ms/step - loss: 0.6899 - accuracy: 0.5556\n",
            "Epoch 77/200\n",
            "4/4 [==============================] - 0s 4ms/step - loss: 0.6872 - accuracy: 0.5556\n",
            "Epoch 78/200\n",
            "4/4 [==============================] - 0s 5ms/step - loss: 0.6879 - accuracy: 0.5556\n",
            "Epoch 79/200\n",
            "4/4 [==============================] - 0s 5ms/step - loss: 0.6875 - accuracy: 0.5556\n",
            "Epoch 80/200\n",
            "4/4 [==============================] - 0s 4ms/step - loss: 0.6880 - accuracy: 0.5556\n",
            "Epoch 81/200\n",
            "4/4 [==============================] - 0s 3ms/step - loss: 0.6872 - accuracy: 0.5556\n",
            "Epoch 82/200\n",
            "4/4 [==============================] - 0s 4ms/step - loss: 0.6890 - accuracy: 0.5556\n",
            "Epoch 83/200\n",
            "4/4 [==============================] - 0s 4ms/step - loss: 0.6877 - accuracy: 0.5556\n",
            "Epoch 84/200\n",
            "4/4 [==============================] - 0s 4ms/step - loss: 0.6885 - accuracy: 0.5556\n",
            "Epoch 85/200\n",
            "4/4 [==============================] - 0s 3ms/step - loss: 0.6886 - accuracy: 0.5556\n",
            "Epoch 86/200\n",
            "4/4 [==============================] - 0s 5ms/step - loss: 0.6910 - accuracy: 0.5556\n",
            "Epoch 87/200\n",
            "4/4 [==============================] - 0s 3ms/step - loss: 0.6881 - accuracy: 0.5556\n",
            "Epoch 88/200\n",
            "4/4 [==============================] - 0s 7ms/step - loss: 0.6885 - accuracy: 0.5556\n",
            "Epoch 89/200\n",
            "4/4 [==============================] - 0s 3ms/step - loss: 0.6883 - accuracy: 0.5556\n",
            "Epoch 90/200\n",
            "4/4 [==============================] - 0s 3ms/step - loss: 0.6875 - accuracy: 0.5556\n",
            "Epoch 91/200\n",
            "4/4 [==============================] - 0s 3ms/step - loss: 0.6877 - accuracy: 0.5556\n",
            "Epoch 92/200\n",
            "4/4 [==============================] - 0s 4ms/step - loss: 0.6875 - accuracy: 0.5556\n",
            "Epoch 93/200\n",
            "4/4 [==============================] - 0s 5ms/step - loss: 0.6880 - accuracy: 0.5556\n",
            "Epoch 94/200\n",
            "4/4 [==============================] - 0s 4ms/step - loss: 0.6877 - accuracy: 0.5556\n",
            "Epoch 95/200\n",
            "4/4 [==============================] - 0s 4ms/step - loss: 0.6873 - accuracy: 0.5556\n",
            "Epoch 96/200\n",
            "4/4 [==============================] - 0s 4ms/step - loss: 0.6881 - accuracy: 0.5556\n",
            "Epoch 97/200\n",
            "4/4 [==============================] - 0s 4ms/step - loss: 0.6886 - accuracy: 0.5556\n",
            "Epoch 98/200\n",
            "4/4 [==============================] - 0s 3ms/step - loss: 0.6873 - accuracy: 0.5556\n",
            "Epoch 99/200\n",
            "4/4 [==============================] - 0s 3ms/step - loss: 0.6872 - accuracy: 0.5556\n",
            "Epoch 100/200\n",
            "4/4 [==============================] - 0s 4ms/step - loss: 0.6875 - accuracy: 0.5556\n",
            "Epoch 101/200\n",
            "4/4 [==============================] - 0s 4ms/step - loss: 0.6874 - accuracy: 0.5556\n",
            "Epoch 102/200\n",
            "4/4 [==============================] - 0s 4ms/step - loss: 0.6883 - accuracy: 0.5556\n",
            "Epoch 103/200\n",
            "4/4 [==============================] - 0s 5ms/step - loss: 0.6879 - accuracy: 0.5556\n",
            "Epoch 104/200\n",
            "4/4 [==============================] - 0s 4ms/step - loss: 0.6895 - accuracy: 0.5556\n",
            "Epoch 105/200\n",
            "4/4 [==============================] - 0s 3ms/step - loss: 0.6872 - accuracy: 0.5556\n",
            "Epoch 106/200\n",
            "4/4 [==============================] - 0s 4ms/step - loss: 0.6883 - accuracy: 0.5556\n",
            "Epoch 107/200\n",
            "4/4 [==============================] - 0s 5ms/step - loss: 0.6874 - accuracy: 0.5556\n",
            "Epoch 108/200\n",
            "4/4 [==============================] - 0s 5ms/step - loss: 0.6877 - accuracy: 0.5556\n",
            "Epoch 109/200\n",
            "4/4 [==============================] - 0s 7ms/step - loss: 0.6916 - accuracy: 0.5556\n",
            "Epoch 110/200\n",
            "4/4 [==============================] - 0s 4ms/step - loss: 0.6871 - accuracy: 0.5556\n",
            "Epoch 111/200\n",
            "4/4 [==============================] - 0s 4ms/step - loss: 0.6873 - accuracy: 0.5556\n",
            "Epoch 112/200\n",
            "4/4 [==============================] - 0s 3ms/step - loss: 0.6884 - accuracy: 0.5556\n",
            "Epoch 113/200\n",
            "4/4 [==============================] - 0s 4ms/step - loss: 0.6878 - accuracy: 0.5556\n",
            "Epoch 114/200\n",
            "4/4 [==============================] - 0s 5ms/step - loss: 0.6892 - accuracy: 0.5556\n",
            "Epoch 115/200\n",
            "4/4 [==============================] - 0s 4ms/step - loss: 0.6904 - accuracy: 0.5556\n",
            "Epoch 116/200\n",
            "4/4 [==============================] - 0s 3ms/step - loss: 0.6875 - accuracy: 0.5556\n",
            "Epoch 117/200\n",
            "4/4 [==============================] - 0s 3ms/step - loss: 0.6888 - accuracy: 0.5556\n",
            "Epoch 118/200\n",
            "4/4 [==============================] - 0s 4ms/step - loss: 0.6876 - accuracy: 0.5556\n",
            "Epoch 119/200\n",
            "4/4 [==============================] - 0s 4ms/step - loss: 0.6873 - accuracy: 0.5556\n",
            "Epoch 120/200\n",
            "4/4 [==============================] - 0s 4ms/step - loss: 0.6884 - accuracy: 0.5556\n",
            "Epoch 121/200\n",
            "4/4 [==============================] - 0s 4ms/step - loss: 0.6871 - accuracy: 0.5556\n",
            "Epoch 122/200\n",
            "4/4 [==============================] - 0s 4ms/step - loss: 0.6878 - accuracy: 0.5556\n",
            "Epoch 123/200\n",
            "4/4 [==============================] - 0s 8ms/step - loss: 0.6873 - accuracy: 0.5556\n",
            "Epoch 124/200\n",
            "4/4 [==============================] - 0s 4ms/step - loss: 0.6885 - accuracy: 0.5556\n",
            "Epoch 125/200\n",
            "4/4 [==============================] - 0s 6ms/step - loss: 0.6877 - accuracy: 0.5556\n",
            "Epoch 126/200\n",
            "4/4 [==============================] - 0s 3ms/step - loss: 0.6873 - accuracy: 0.5556\n",
            "Epoch 127/200\n",
            "4/4 [==============================] - 0s 3ms/step - loss: 0.6878 - accuracy: 0.5556\n",
            "Epoch 128/200\n",
            "4/4 [==============================] - 0s 6ms/step - loss: 0.6876 - accuracy: 0.5556\n",
            "Epoch 129/200\n",
            "4/4 [==============================] - 0s 4ms/step - loss: 0.6872 - accuracy: 0.5556\n",
            "Epoch 130/200\n",
            "4/4 [==============================] - 0s 4ms/step - loss: 0.6872 - accuracy: 0.5556\n",
            "Epoch 131/200\n",
            "4/4 [==============================] - 0s 5ms/step - loss: 0.6883 - accuracy: 0.5556\n",
            "Epoch 132/200\n",
            "4/4 [==============================] - 0s 4ms/step - loss: 0.6880 - accuracy: 0.5556\n",
            "Epoch 133/200\n",
            "4/4 [==============================] - 0s 4ms/step - loss: 0.6872 - accuracy: 0.5556\n",
            "Epoch 134/200\n",
            "4/4 [==============================] - 0s 4ms/step - loss: 0.6872 - accuracy: 0.5556\n",
            "Epoch 135/200\n",
            "4/4 [==============================] - 0s 3ms/step - loss: 0.6876 - accuracy: 0.5556\n",
            "Epoch 136/200\n",
            "4/4 [==============================] - 0s 3ms/step - loss: 0.6875 - accuracy: 0.5556\n",
            "Epoch 137/200\n",
            "4/4 [==============================] - 0s 5ms/step - loss: 0.6873 - accuracy: 0.5556\n",
            "Epoch 138/200\n",
            "4/4 [==============================] - 0s 4ms/step - loss: 0.6881 - accuracy: 0.5556\n",
            "Epoch 139/200\n",
            "4/4 [==============================] - 0s 4ms/step - loss: 0.6878 - accuracy: 0.5556\n",
            "Epoch 140/200\n",
            "4/4 [==============================] - 0s 6ms/step - loss: 0.6882 - accuracy: 0.5556\n",
            "Epoch 141/200\n",
            "4/4 [==============================] - 0s 4ms/step - loss: 0.6887 - accuracy: 0.5556\n",
            "Epoch 142/200\n",
            "4/4 [==============================] - 0s 4ms/step - loss: 0.6890 - accuracy: 0.5556\n",
            "Epoch 143/200\n",
            "4/4 [==============================] - 0s 4ms/step - loss: 0.6874 - accuracy: 0.5556\n",
            "Epoch 144/200\n",
            "4/4 [==============================] - 0s 3ms/step - loss: 0.6877 - accuracy: 0.5556\n",
            "Epoch 145/200\n",
            "4/4 [==============================] - 0s 4ms/step - loss: 0.6881 - accuracy: 0.5556\n",
            "Epoch 146/200\n",
            "4/4 [==============================] - 0s 4ms/step - loss: 0.6872 - accuracy: 0.5556\n",
            "Epoch 147/200\n",
            "4/4 [==============================] - 0s 5ms/step - loss: 0.6876 - accuracy: 0.5556\n",
            "Epoch 148/200\n",
            "4/4 [==============================] - 0s 3ms/step - loss: 0.6881 - accuracy: 0.5556\n",
            "Epoch 149/200\n",
            "4/4 [==============================] - 0s 3ms/step - loss: 0.6877 - accuracy: 0.5556\n",
            "Epoch 150/200\n",
            "4/4 [==============================] - 0s 5ms/step - loss: 0.6878 - accuracy: 0.5556\n",
            "Epoch 151/200\n",
            "4/4 [==============================] - 0s 4ms/step - loss: 0.6880 - accuracy: 0.5556\n",
            "Epoch 152/200\n",
            "4/4 [==============================] - 0s 5ms/step - loss: 0.6880 - accuracy: 0.5556\n",
            "Epoch 153/200\n",
            "4/4 [==============================] - 0s 5ms/step - loss: 0.6883 - accuracy: 0.5556\n",
            "Epoch 154/200\n",
            "4/4 [==============================] - 0s 4ms/step - loss: 0.6881 - accuracy: 0.5556\n",
            "Epoch 155/200\n",
            "4/4 [==============================] - 0s 4ms/step - loss: 0.6876 - accuracy: 0.5556\n",
            "Epoch 156/200\n",
            "4/4 [==============================] - 0s 5ms/step - loss: 0.6878 - accuracy: 0.5556\n",
            "Epoch 157/200\n",
            "4/4 [==============================] - 0s 4ms/step - loss: 0.6885 - accuracy: 0.5556\n",
            "Epoch 158/200\n",
            "4/4 [==============================] - 0s 5ms/step - loss: 0.6879 - accuracy: 0.5556\n",
            "Epoch 159/200\n",
            "4/4 [==============================] - 0s 3ms/step - loss: 0.6895 - accuracy: 0.5556\n",
            "Epoch 160/200\n",
            "4/4 [==============================] - 0s 3ms/step - loss: 0.6872 - accuracy: 0.5556\n",
            "Epoch 161/200\n",
            "4/4 [==============================] - 0s 4ms/step - loss: 0.6872 - accuracy: 0.5556\n",
            "Epoch 162/200\n",
            "4/4 [==============================] - 0s 4ms/step - loss: 0.6895 - accuracy: 0.5556\n",
            "Epoch 163/200\n",
            "4/4 [==============================] - 0s 3ms/step - loss: 0.6885 - accuracy: 0.5556\n",
            "Epoch 164/200\n",
            "4/4 [==============================] - 0s 4ms/step - loss: 0.6872 - accuracy: 0.5556\n",
            "Epoch 165/200\n",
            "4/4 [==============================] - 0s 4ms/step - loss: 0.6876 - accuracy: 0.5556\n",
            "Epoch 166/200\n",
            "4/4 [==============================] - 0s 3ms/step - loss: 0.6871 - accuracy: 0.5556\n",
            "Epoch 167/200\n",
            "4/4 [==============================] - 0s 5ms/step - loss: 0.6877 - accuracy: 0.5556\n",
            "Epoch 168/200\n",
            "4/4 [==============================] - 0s 3ms/step - loss: 0.6872 - accuracy: 0.5556\n",
            "Epoch 169/200\n",
            "4/4 [==============================] - 0s 3ms/step - loss: 0.6874 - accuracy: 0.5556\n",
            "Epoch 170/200\n",
            "4/4 [==============================] - 0s 6ms/step - loss: 0.6875 - accuracy: 0.5556\n",
            "Epoch 171/200\n",
            "4/4 [==============================] - 0s 4ms/step - loss: 0.6881 - accuracy: 0.5556\n",
            "Epoch 172/200\n",
            "4/4 [==============================] - 0s 4ms/step - loss: 0.6886 - accuracy: 0.5556\n",
            "Epoch 173/200\n",
            "4/4 [==============================] - 0s 4ms/step - loss: 0.6879 - accuracy: 0.5556\n",
            "Epoch 174/200\n",
            "4/4 [==============================] - 0s 5ms/step - loss: 0.6872 - accuracy: 0.5556\n",
            "Epoch 175/200\n",
            "4/4 [==============================] - 0s 4ms/step - loss: 0.6901 - accuracy: 0.5556\n",
            "Epoch 176/200\n",
            "4/4 [==============================] - 0s 5ms/step - loss: 0.6869 - accuracy: 0.5556\n",
            "Epoch 177/200\n",
            "4/4 [==============================] - 0s 5ms/step - loss: 0.6896 - accuracy: 0.5556\n",
            "Epoch 178/200\n",
            "4/4 [==============================] - 0s 3ms/step - loss: 0.6894 - accuracy: 0.5556\n",
            "Epoch 179/200\n",
            "4/4 [==============================] - 0s 4ms/step - loss: 0.6875 - accuracy: 0.5556\n",
            "Epoch 180/200\n",
            "4/4 [==============================] - 0s 4ms/step - loss: 0.6881 - accuracy: 0.5556\n",
            "Epoch 181/200\n",
            "4/4 [==============================] - 0s 5ms/step - loss: 0.6871 - accuracy: 0.5556\n",
            "Epoch 182/200\n",
            "4/4 [==============================] - 0s 3ms/step - loss: 0.6878 - accuracy: 0.5556\n",
            "Epoch 183/200\n",
            "4/4 [==============================] - 0s 3ms/step - loss: 0.6870 - accuracy: 0.5556\n",
            "Epoch 184/200\n",
            "4/4 [==============================] - 0s 5ms/step - loss: 0.6879 - accuracy: 0.5556\n",
            "Epoch 185/200\n",
            "4/4 [==============================] - 0s 4ms/step - loss: 0.6873 - accuracy: 0.5556\n",
            "Epoch 186/200\n",
            "4/4 [==============================] - 0s 3ms/step - loss: 0.6903 - accuracy: 0.5556\n",
            "Epoch 187/200\n",
            "4/4 [==============================] - 0s 4ms/step - loss: 0.6879 - accuracy: 0.5556\n",
            "Epoch 188/200\n",
            "4/4 [==============================] - 0s 4ms/step - loss: 0.6890 - accuracy: 0.5556\n",
            "Epoch 189/200\n",
            "4/4 [==============================] - 0s 5ms/step - loss: 0.6877 - accuracy: 0.5556\n",
            "Epoch 190/200\n",
            "4/4 [==============================] - 0s 4ms/step - loss: 0.6892 - accuracy: 0.5556\n",
            "Epoch 191/200\n",
            "4/4 [==============================] - 0s 4ms/step - loss: 0.6878 - accuracy: 0.5556\n",
            "Epoch 192/200\n",
            "4/4 [==============================] - 0s 4ms/step - loss: 0.6887 - accuracy: 0.5556\n",
            "Epoch 193/200\n",
            "4/4 [==============================] - 0s 4ms/step - loss: 0.6877 - accuracy: 0.5556\n",
            "Epoch 194/200\n",
            "4/4 [==============================] - 0s 4ms/step - loss: 0.6874 - accuracy: 0.5556\n",
            "Epoch 195/200\n",
            "4/4 [==============================] - 0s 4ms/step - loss: 0.6883 - accuracy: 0.5556\n",
            "Epoch 196/200\n",
            "4/4 [==============================] - 0s 4ms/step - loss: 0.6882 - accuracy: 0.5556\n",
            "Epoch 197/200\n",
            "4/4 [==============================] - 0s 4ms/step - loss: 0.6886 - accuracy: 0.5556\n",
            "Epoch 198/200\n",
            "4/4 [==============================] - 0s 4ms/step - loss: 0.6872 - accuracy: 0.5556\n",
            "Epoch 199/200\n",
            "4/4 [==============================] - 0s 5ms/step - loss: 0.6885 - accuracy: 0.5556\n",
            "Epoch 200/200\n",
            "4/4 [==============================] - 0s 4ms/step - loss: 0.6871 - accuracy: 0.5556\n",
            "INFO:tensorflow:Assets written to: model_nlp/assets\n"
          ]
        }
      ]
    },
    {
      "cell_type": "markdown",
      "metadata": {
        "id": "mUf4zVWywk57"
      },
      "source": [
        "#Chatbot"
      ]
    },
    {
      "cell_type": "code",
      "metadata": {
        "id": "oc6PzKEIwxIS"
      },
      "source": [
        "import random\n",
        "import json\n",
        "import pickle\n",
        "import numpy as np"
      ],
      "execution_count": 15,
      "outputs": []
    },
    {
      "cell_type": "code",
      "metadata": {
        "id": "kHs1Q49ctrxE"
      },
      "source": [
        "import nltk\n",
        "from nltk.stem import WordNetLemmatizer"
      ],
      "execution_count": 16,
      "outputs": []
    },
    {
      "cell_type": "code",
      "metadata": {
        "id": "bUmXYI7pxCVG"
      },
      "source": [
        "from tensorflow.keras.models import load_model"
      ],
      "execution_count": 17,
      "outputs": []
    },
    {
      "cell_type": "code",
      "metadata": {
        "colab": {
          "base_uri": "https://localhost:8080/"
        },
        "id": "IIymTRvOxOIk",
        "outputId": "eb4cda88-9855-44a2-d63c-1bc8446a2dff"
      },
      "source": [
        "lemmatizer = WordNetLemmatizer()\n",
        "intents = dados\n",
        "intents"
      ],
      "execution_count": 18,
      "outputs": [
        {
          "output_type": "execute_result",
          "data": {
            "text/plain": [
              "{'intents': [{'patterns': ['Hello',\n",
              "    'hey',\n",
              "    'HI?',\n",
              "    'good day',\n",
              "    'hi good morning?'],\n",
              "   'responses': ['Hellou!', 'what can i do for you?'],\n",
              "   'tag': 'greetings'},\n",
              "  {'patterns': ['goodbye', 'cya', 'see you', 'bye'],\n",
              "   'responses': ['Goodbye!'],\n",
              "   'tag': 'goodbye'}]}"
            ]
          },
          "metadata": {},
          "execution_count": 18
        }
      ]
    },
    {
      "cell_type": "code",
      "metadata": {
        "id": "VfcGqMttx6I0"
      },
      "source": [
        "words = pickle.load(open(\"words.pkl\", \"rb\"))\n",
        "classes = pickle.load(open(\"classes.pkl\", \"rb\"))"
      ],
      "execution_count": 19,
      "outputs": []
    },
    {
      "cell_type": "code",
      "metadata": {
        "id": "gEELUg9eztaM"
      },
      "source": [
        "model = load_model('model_nlp')"
      ],
      "execution_count": 20,
      "outputs": []
    },
    {
      "cell_type": "code",
      "metadata": {
        "id": "pPt1b5zo1Dc7"
      },
      "source": [
        "def clear_sentence(sentence):\n",
        "  sentence_words = nltk.word_tokenize(sentence)\n",
        "  sentence_words = [lemmatizer.lemmatize(word) for word in sentence_words]\n",
        "  return sentence_words\n",
        "\n",
        "def bag_of_words(sentence):\n",
        "  sentence_words = clear_sentence(sentence)\n",
        "  bag = [0] * len(words)\n",
        "  for w in sentence_words:\n",
        "    for i, word in enumerate(words):\n",
        "      if word == w:\n",
        "        bag[i] = 1\n",
        "  return np.array(bag)\n",
        "\n",
        "def predict_class(sentence):\n",
        "  bow = bag_of_words(sentence)\n",
        "  res = model.predict(np.array([bow]))[0]\n",
        "  ERROR_THRESHOLD = 0.25\n",
        "  results = [[i,r] for i,r in enumerate(res) if r > ERROR_THRESHOLD]\n",
        "\n",
        "  results.sort(key=lambda x: x[1], reverse=True)\n",
        "  return_list = []\n",
        "  for r in results:\n",
        "    return_list.append({'intent': classes[r[0]], 'probability': str(r[1])})\n",
        "  return return_list\n",
        "\n",
        "def get_response(intents_list, intents_json):\n",
        "  tag = intents_list[0]['intent']\n",
        "  list_of_intents = intents_json['intents']\n",
        "  for i in list_of_intents:\n",
        "    if i['tag'] == tag:\n",
        "      result = random.choice(i['responses'])\n",
        "      break\n",
        "  return result"
      ],
      "execution_count": 21,
      "outputs": []
    },
    {
      "cell_type": "code",
      "metadata": {
        "colab": {
          "base_uri": "https://localhost:8080/"
        },
        "id": "qndzWNXW7c-k",
        "outputId": "cb1598ef-e22a-43e6-956c-1e9258863838"
      },
      "source": [
        "while True:\n",
        "  message = input(\"\")\n",
        "  ints = predict_class(message)\n",
        "  res = get_response(ints, intents)\n",
        "  print(res)"
      ],
      "execution_count": null,
      "outputs": [
        {
          "output_type": "stream",
          "name": "stdout",
          "text": [
            "oi\n",
            "Hellou!\n"
          ]
        }
      ]
    }
  ]
}