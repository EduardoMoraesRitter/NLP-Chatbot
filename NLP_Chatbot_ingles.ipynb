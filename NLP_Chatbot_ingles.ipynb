{
  "nbformat": 4,
  "nbformat_minor": 0,
  "metadata": {
    "colab": {
      "name": "NLP - Chatbot ingles",
      "provenance": [],
      "authorship_tag": "ABX9TyP6w7MikS/FdgoONVLHbW+R",
      "include_colab_link": true
    },
    "kernelspec": {
      "name": "python3",
      "display_name": "Python 3"
    }
  },
  "cells": [
    {
      "cell_type": "markdown",
      "metadata": {
        "id": "view-in-github",
        "colab_type": "text"
      },
      "source": [
        "<a href=\"https://colab.research.google.com/github/EduardoMoraesRitter/NLP-Chatbot/blob/main/NLP_Chatbot_ingles.ipynb\" target=\"_parent\"><img src=\"https://colab.research.google.com/assets/colab-badge.svg\" alt=\"Open In Colab\"/></a>"
      ]
    },
    {
      "cell_type": "markdown",
      "metadata": {
        "id": "fvHQa9Czwh2c"
      },
      "source": [
        "#NLP"
      ]
    },
    {
      "cell_type": "code",
      "metadata": {
        "colab": {
          "base_uri": "https://localhost:8080/"
        },
        "id": "ZykKbNzrDLDz",
        "outputId": "146f0eed-504d-40e3-ff64-ba4158954fff"
      },
      "source": [
        "dados = {\"intents\":[\r\n",
        "            {\r\n",
        "                \"tag\":\"greetings\",\r\n",
        "                \"patterns\": [\"Hello\", \"hey\", \"HI?\", \"good day\", \"hi good morning?\"],\r\n",
        "                \"responses\": [\"Hellou!\", \"what can i do for you?\"]\r\n",
        "            },\r\n",
        "            {\r\n",
        "                \"tag\":\"goodbye\",\r\n",
        "                \"patterns\": [\"goodbye\", \"cya\", \"see you\", \"bye\"],\r\n",
        "                \"responses\": [\"Goodbye!\"]\r\n",
        "            }\r\n",
        "]}\r\n",
        "\r\n",
        "dados"
      ],
      "execution_count": null,
      "outputs": [
        {
          "output_type": "execute_result",
          "data": {
            "text/plain": [
              "{'intents': [{'patterns': ['Hello',\n",
              "    'hey',\n",
              "    'HI?',\n",
              "    'good day',\n",
              "    'hi good morning?'],\n",
              "   'responses': ['Hellou!', 'what can i do for you?'],\n",
              "   'tag': 'greetings'},\n",
              "  {'patterns': ['goodbye', 'cya', 'see you', 'bye'],\n",
              "   'responses': ['Goodbye!'],\n",
              "   'tag': 'goodbye'}]}"
            ]
          },
          "metadata": {
            "tags": []
          },
          "execution_count": 1
        }
      ]
    },
    {
      "cell_type": "code",
      "metadata": {
        "id": "xEeMRa8wDQYs"
      },
      "source": [
        "import random\r\n",
        "import json\r\n",
        "import pickle\r\n",
        "import numpy as np"
      ],
      "execution_count": null,
      "outputs": []
    },
    {
      "cell_type": "code",
      "metadata": {
        "id": "qQlACWTddThS"
      },
      "source": [
        "import nltk\r\n",
        "from nltk.stem import WordNetLemmatizer"
      ],
      "execution_count": null,
      "outputs": []
    },
    {
      "cell_type": "code",
      "metadata": {
        "id": "Os6GJg7mdeko"
      },
      "source": [
        "from tensorflow.keras.models import Sequential\r\n",
        "from tensorflow.keras.layers import Dense, Activation, Dropout\r\n",
        "from tensorflow.keras.optimizers import SGD"
      ],
      "execution_count": null,
      "outputs": []
    },
    {
      "cell_type": "code",
      "metadata": {
        "id": "87RPWtg9eDR6"
      },
      "source": [
        "lemmatizer = WordNetLemmatizer()"
      ],
      "execution_count": null,
      "outputs": []
    },
    {
      "cell_type": "code",
      "metadata": {
        "id": "gKpf1vwIeMmh"
      },
      "source": [
        "#instents = json.loads(open('instens.json').read())\r\n",
        "intents = dados"
      ],
      "execution_count": null,
      "outputs": []
    },
    {
      "cell_type": "code",
      "metadata": {
        "colab": {
          "base_uri": "https://localhost:8080/"
        },
        "id": "f8UvCiQLRfQs",
        "outputId": "a013c0ad-dc0e-4031-95bc-8e459a3bcdcc"
      },
      "source": [
        "nltk.download('wordnet')\r\n",
        "nltk.download('punkt')"
      ],
      "execution_count": null,
      "outputs": [
        {
          "output_type": "stream",
          "text": [
            "[nltk_data] Downloading package wordnet to /root/nltk_data...\n",
            "[nltk_data]   Package wordnet is already up-to-date!\n",
            "[nltk_data] Downloading package punkt to /root/nltk_data...\n",
            "[nltk_data]   Package punkt is already up-to-date!\n"
          ],
          "name": "stdout"
        },
        {
          "output_type": "execute_result",
          "data": {
            "text/plain": [
              "True"
            ]
          },
          "metadata": {
            "tags": []
          },
          "execution_count": 7
        }
      ]
    },
    {
      "cell_type": "code",
      "metadata": {
        "id": "MKR-DVbQhFkV"
      },
      "source": [
        "words = []\r\n",
        "classes = []\r\n",
        "documents = []\r\n",
        "ignore_letters = ['?', '!', '.', ',']"
      ],
      "execution_count": null,
      "outputs": []
    },
    {
      "cell_type": "code",
      "metadata": {
        "colab": {
          "base_uri": "https://localhost:8080/"
        },
        "id": "y6QyUmMyPtWw",
        "outputId": "938fffd1-0dbd-4582-e15f-f2a0d8574438"
      },
      "source": [
        "#teste de token\r\n",
        "nltk.word_tokenize(\"see you\")"
      ],
      "execution_count": null,
      "outputs": [
        {
          "output_type": "execute_result",
          "data": {
            "text/plain": [
              "['see', 'you']"
            ]
          },
          "metadata": {
            "tags": []
          },
          "execution_count": 9
        }
      ]
    },
    {
      "cell_type": "code",
      "metadata": {
        "id": "f3_9A6BkiHN3"
      },
      "source": [
        "# for intent in intents['intents']:\r\n",
        "#     for pattern in intent['patterns']:\r\n",
        "#       word_list = nltk.word_tokenize(pattern)\r\n",
        "#       words.append(word_list)\r\n",
        "#       documents.append((word_list, intent['tag']))\r\n",
        "#       if intent['tag'] not in classes:\r\n",
        "#         classes.append(intent['tag'])\r\n",
        "\r\n",
        "# print(documents)"
      ],
      "execution_count": null,
      "outputs": []
    },
    {
      "cell_type": "code",
      "metadata": {
        "colab": {
          "base_uri": "https://localhost:8080/"
        },
        "id": "bwNJikVkjQaG",
        "outputId": "17c3c5c8-225b-42bb-b086-22499ed6c62a"
      },
      "source": [
        "for intent in intents['intents']:\r\n",
        "    for pattern in intent['patterns']:\r\n",
        "      word_list = nltk.word_tokenize(pattern)\r\n",
        "      words.extend(word_list)\r\n",
        "      documents.append((word_list, intent['tag']))\r\n",
        "      if intent['tag'] not in classes:\r\n",
        "        classes.append(intent['tag'])\r\n",
        "\r\n",
        "words = [lemmatizer.lemmatize(word) for word in words if word not in ignore_letters]\r\n",
        "words = sorted(set(words))\r\n",
        "\r\n",
        "print(words)"
      ],
      "execution_count": null,
      "outputs": [
        {
          "output_type": "stream",
          "text": [
            "['HI', 'Hello', 'bye', 'cya', 'day', 'good', 'goodbye', 'hey', 'hi', 'morning', 'see', 'you']\n"
          ],
          "name": "stdout"
        }
      ]
    },
    {
      "cell_type": "code",
      "metadata": {
        "colab": {
          "base_uri": "https://localhost:8080/"
        },
        "id": "nmgJlGvZRK8g",
        "outputId": "ba8a6b1f-4e69-409c-dbc4-7068fed8c032"
      },
      "source": [
        "for intent in intents['intents']:\r\n",
        "    for pattern in intent['patterns']:\r\n",
        "      word_list = nltk.word_tokenize(pattern)\r\n",
        "      words.extend(word_list)\r\n",
        "      documents.append((word_list, intent['tag']))\r\n",
        "      if intent['tag'] not in classes:\r\n",
        "        classes.append(intent['tag'])\r\n",
        "\r\n",
        "words = [lemmatizer.lemmatize(word) for word in words if word not in ignore_letters]\r\n",
        "words = sorted(set(words))\r\n",
        "\r\n",
        "classes = sorted(set(classes))\r\n",
        "\r\n",
        "pickle.dump(words, open(\"words.pkl\", \"wb\"))\r\n",
        "pickle.dump(classes, open(\"classes.pkl\", \"wb\"))\r\n",
        "\r\n",
        "documents"
      ],
      "execution_count": null,
      "outputs": [
        {
          "output_type": "execute_result",
          "data": {
            "text/plain": [
              "[(['Hello'], 'greetings'),\n",
              " (['hey'], 'greetings'),\n",
              " (['HI', '?'], 'greetings'),\n",
              " (['good', 'day'], 'greetings'),\n",
              " (['hi', 'good', 'morning', '?'], 'greetings'),\n",
              " (['goodbye'], 'goodbye'),\n",
              " (['cya'], 'goodbye'),\n",
              " (['see', 'you'], 'goodbye'),\n",
              " (['bye'], 'goodbye'),\n",
              " (['Hello'], 'greetings'),\n",
              " (['hey'], 'greetings'),\n",
              " (['HI', '?'], 'greetings'),\n",
              " (['good', 'day'], 'greetings'),\n",
              " (['hi', 'good', 'morning', '?'], 'greetings'),\n",
              " (['goodbye'], 'goodbye'),\n",
              " (['cya'], 'goodbye'),\n",
              " (['see', 'you'], 'goodbye'),\n",
              " (['bye'], 'goodbye')]"
            ]
          },
          "metadata": {
            "tags": []
          },
          "execution_count": 12
        }
      ]
    },
    {
      "cell_type": "code",
      "metadata": {
        "colab": {
          "base_uri": "https://localhost:8080/"
        },
        "id": "CbghhYztSZ39",
        "outputId": "898d791d-2ae3-4270-cef9-c4703718b450"
      },
      "source": [
        "training = []\r\n",
        "output_empty = [0] * len(classes)\r\n",
        "\r\n",
        "for document in documents:\r\n",
        "  bag = []\r\n",
        "  word_patterns = documents[0]\r\n",
        "  word_patterns = [lemmatizer.lemmatize(word[0].lower()) for word in word_patterns]\r\n",
        "  for word in words:\r\n",
        "    bag.append(1) if word in word_patterns else bag.append(0)\r\n",
        "\r\n",
        "  output_row = list(output_empty)\r\n",
        "  output_row[classes.index(document[1])] = 1\r\n",
        "  training.append([bag, output_row])\r\n",
        "\r\n",
        "random.shuffle(training)\r\n",
        "training = np.array(training)\r\n",
        "\r\n",
        "train_x = list(training[:, 0])\r\n",
        "train_y = list(training[:, 1])\r\n",
        "\r\n",
        "training"
      ],
      "execution_count": null,
      "outputs": [
        {
          "output_type": "execute_result",
          "data": {
            "text/plain": [
              "array([[list([0, 0, 0, 0, 0, 0, 0, 0, 0, 0, 0, 0]), list([1, 0])],\n",
              "       [list([0, 0, 0, 0, 0, 0, 0, 0, 0, 0, 0, 0]), list([0, 1])],\n",
              "       [list([0, 0, 0, 0, 0, 0, 0, 0, 0, 0, 0, 0]), list([1, 0])],\n",
              "       [list([0, 0, 0, 0, 0, 0, 0, 0, 0, 0, 0, 0]), list([1, 0])],\n",
              "       [list([0, 0, 0, 0, 0, 0, 0, 0, 0, 0, 0, 0]), list([0, 1])],\n",
              "       [list([0, 0, 0, 0, 0, 0, 0, 0, 0, 0, 0, 0]), list([0, 1])],\n",
              "       [list([0, 0, 0, 0, 0, 0, 0, 0, 0, 0, 0, 0]), list([0, 1])],\n",
              "       [list([0, 0, 0, 0, 0, 0, 0, 0, 0, 0, 0, 0]), list([0, 1])],\n",
              "       [list([0, 0, 0, 0, 0, 0, 0, 0, 0, 0, 0, 0]), list([1, 0])],\n",
              "       [list([0, 0, 0, 0, 0, 0, 0, 0, 0, 0, 0, 0]), list([1, 0])],\n",
              "       [list([0, 0, 0, 0, 0, 0, 0, 0, 0, 0, 0, 0]), list([0, 1])],\n",
              "       [list([0, 0, 0, 0, 0, 0, 0, 0, 0, 0, 0, 0]), list([0, 1])],\n",
              "       [list([0, 0, 0, 0, 0, 0, 0, 0, 0, 0, 0, 0]), list([0, 1])],\n",
              "       [list([0, 0, 0, 0, 0, 0, 0, 0, 0, 0, 0, 0]), list([0, 1])],\n",
              "       [list([0, 0, 0, 0, 0, 0, 0, 0, 0, 0, 0, 0]), list([0, 1])],\n",
              "       [list([0, 0, 0, 0, 0, 0, 0, 0, 0, 0, 0, 0]), list([1, 0])],\n",
              "       [list([0, 0, 0, 0, 0, 0, 0, 0, 0, 0, 0, 0]), list([1, 0])],\n",
              "       [list([0, 0, 0, 0, 0, 0, 0, 0, 0, 0, 0, 0]), list([1, 0])]],\n",
              "      dtype=object)"
            ]
          },
          "metadata": {
            "tags": []
          },
          "execution_count": 13
        }
      ]
    },
    {
      "cell_type": "code",
      "metadata": {
        "id": "reV_CX2QVffG",
        "colab": {
          "base_uri": "https://localhost:8080/"
        },
        "outputId": "5f87dbd6-d0cd-4447-e35e-d9d3436240db"
      },
      "source": [
        "model = Sequential()\r\n",
        "model.add(Dense(128, input_shape=(len(train_x[0]),), activation='relu'))\r\n",
        "model.add(Dropout(0.5))\r\n",
        "model.add(Dense(64, activation='relu'))\r\n",
        "model.add(Dropout(0.5))\r\n",
        "model.add(Dense(len(train_y[0]), activation='softmax'))\r\n",
        "\r\n",
        "sqb = SGD(lr=0.01, decay=1e-6, momentum=0.9, nesterov=True)\r\n",
        "model.compile(loss='categorical_crossentropy', optimizer=sqb, metrics=['accuracy'])\r\n",
        "\r\n",
        "model.fit(np.array(train_x), np.array(train_y), epochs=200, batch_size=5, verbose=1)\r\n",
        "model.save('model_nlp')"
      ],
      "execution_count": null,
      "outputs": [
        {
          "output_type": "stream",
          "text": [
            "Epoch 1/200\n",
            "4/4 [==============================] - 0s 3ms/step - loss: 0.6938 - accuracy: 0.5000\n",
            "Epoch 2/200\n",
            "4/4 [==============================] - 0s 2ms/step - loss: 0.6935 - accuracy: 0.5556\n",
            "Epoch 3/200\n",
            "4/4 [==============================] - 0s 3ms/step - loss: 0.6916 - accuracy: 0.5556\n",
            "Epoch 4/200\n",
            "4/4 [==============================] - 0s 2ms/step - loss: 0.6902 - accuracy: 0.5556\n",
            "Epoch 5/200\n",
            "4/4 [==============================] - 0s 2ms/step - loss: 0.6880 - accuracy: 0.5556\n",
            "Epoch 6/200\n",
            "4/4 [==============================] - 0s 2ms/step - loss: 0.6890 - accuracy: 0.5556\n",
            "Epoch 7/200\n",
            "4/4 [==============================] - 0s 2ms/step - loss: 0.6879 - accuracy: 0.5556\n",
            "Epoch 8/200\n",
            "4/4 [==============================] - 0s 2ms/step - loss: 0.6887 - accuracy: 0.5556\n",
            "Epoch 9/200\n",
            "4/4 [==============================] - 0s 2ms/step - loss: 0.6882 - accuracy: 0.5556\n",
            "Epoch 10/200\n",
            "4/4 [==============================] - 0s 2ms/step - loss: 0.6884 - accuracy: 0.5556\n",
            "Epoch 11/200\n",
            "4/4 [==============================] - 0s 2ms/step - loss: 0.6880 - accuracy: 0.5556\n",
            "Epoch 12/200\n",
            "4/4 [==============================] - 0s 2ms/step - loss: 0.6876 - accuracy: 0.5556\n",
            "Epoch 13/200\n",
            "4/4 [==============================] - 0s 2ms/step - loss: 0.6877 - accuracy: 0.5556\n",
            "Epoch 14/200\n",
            "4/4 [==============================] - 0s 2ms/step - loss: 0.6881 - accuracy: 0.5556\n",
            "Epoch 15/200\n",
            "4/4 [==============================] - 0s 2ms/step - loss: 0.6885 - accuracy: 0.5556\n",
            "Epoch 16/200\n",
            "4/4 [==============================] - 0s 2ms/step - loss: 0.6874 - accuracy: 0.5556\n",
            "Epoch 17/200\n",
            "4/4 [==============================] - 0s 2ms/step - loss: 0.6886 - accuracy: 0.5556\n",
            "Epoch 18/200\n",
            "4/4 [==============================] - 0s 2ms/step - loss: 0.6881 - accuracy: 0.5556\n",
            "Epoch 19/200\n",
            "4/4 [==============================] - 0s 2ms/step - loss: 0.6875 - accuracy: 0.5556\n",
            "Epoch 20/200\n",
            "4/4 [==============================] - 0s 2ms/step - loss: 0.6887 - accuracy: 0.5556\n",
            "Epoch 21/200\n",
            "4/4 [==============================] - 0s 2ms/step - loss: 0.6874 - accuracy: 0.5556\n",
            "Epoch 22/200\n",
            "4/4 [==============================] - 0s 3ms/step - loss: 0.6886 - accuracy: 0.5556\n",
            "Epoch 23/200\n",
            "4/4 [==============================] - 0s 2ms/step - loss: 0.6876 - accuracy: 0.5556\n",
            "Epoch 24/200\n",
            "4/4 [==============================] - 0s 2ms/step - loss: 0.6872 - accuracy: 0.5556\n",
            "Epoch 25/200\n",
            "4/4 [==============================] - 0s 3ms/step - loss: 0.6880 - accuracy: 0.5556\n",
            "Epoch 26/200\n",
            "4/4 [==============================] - 0s 1ms/step - loss: 0.6875 - accuracy: 0.5556\n",
            "Epoch 27/200\n",
            "4/4 [==============================] - 0s 3ms/step - loss: 0.6883 - accuracy: 0.5556\n",
            "Epoch 28/200\n",
            "4/4 [==============================] - 0s 2ms/step - loss: 0.6876 - accuracy: 0.5556\n",
            "Epoch 29/200\n",
            "4/4 [==============================] - 0s 2ms/step - loss: 0.6874 - accuracy: 0.5556\n",
            "Epoch 30/200\n",
            "4/4 [==============================] - 0s 2ms/step - loss: 0.6886 - accuracy: 0.5556\n",
            "Epoch 31/200\n",
            "4/4 [==============================] - 0s 2ms/step - loss: 0.6874 - accuracy: 0.5556\n",
            "Epoch 32/200\n",
            "4/4 [==============================] - 0s 2ms/step - loss: 0.6881 - accuracy: 0.5556\n",
            "Epoch 33/200\n",
            "4/4 [==============================] - 0s 2ms/step - loss: 0.6892 - accuracy: 0.5556\n",
            "Epoch 34/200\n",
            "4/4 [==============================] - 0s 2ms/step - loss: 0.6886 - accuracy: 0.5556\n",
            "Epoch 35/200\n",
            "4/4 [==============================] - 0s 2ms/step - loss: 0.6873 - accuracy: 0.5556\n",
            "Epoch 36/200\n",
            "4/4 [==============================] - 0s 2ms/step - loss: 0.6874 - accuracy: 0.5556\n",
            "Epoch 37/200\n",
            "4/4 [==============================] - 0s 2ms/step - loss: 0.6871 - accuracy: 0.5556\n",
            "Epoch 38/200\n",
            "4/4 [==============================] - 0s 2ms/step - loss: 0.6879 - accuracy: 0.5556\n",
            "Epoch 39/200\n",
            "4/4 [==============================] - 0s 2ms/step - loss: 0.6891 - accuracy: 0.5556\n",
            "Epoch 40/200\n",
            "4/4 [==============================] - 0s 2ms/step - loss: 0.6888 - accuracy: 0.5556\n",
            "Epoch 41/200\n",
            "4/4 [==============================] - 0s 2ms/step - loss: 0.6895 - accuracy: 0.5556\n",
            "Epoch 42/200\n",
            "4/4 [==============================] - 0s 2ms/step - loss: 0.6880 - accuracy: 0.5556\n",
            "Epoch 43/200\n",
            "4/4 [==============================] - 0s 2ms/step - loss: 0.6885 - accuracy: 0.5556\n",
            "Epoch 44/200\n",
            "4/4 [==============================] - 0s 2ms/step - loss: 0.6889 - accuracy: 0.5556\n",
            "Epoch 45/200\n",
            "4/4 [==============================] - 0s 2ms/step - loss: 0.6882 - accuracy: 0.5556\n",
            "Epoch 46/200\n",
            "4/4 [==============================] - 0s 2ms/step - loss: 0.6885 - accuracy: 0.5556\n",
            "Epoch 47/200\n",
            "4/4 [==============================] - 0s 2ms/step - loss: 0.6880 - accuracy: 0.5556\n",
            "Epoch 48/200\n",
            "4/4 [==============================] - 0s 2ms/step - loss: 0.6889 - accuracy: 0.5556\n",
            "Epoch 49/200\n",
            "4/4 [==============================] - 0s 2ms/step - loss: 0.6880 - accuracy: 0.5556\n",
            "Epoch 50/200\n",
            "4/4 [==============================] - 0s 2ms/step - loss: 0.6884 - accuracy: 0.5556\n",
            "Epoch 51/200\n",
            "4/4 [==============================] - 0s 2ms/step - loss: 0.6883 - accuracy: 0.5556\n",
            "Epoch 52/200\n",
            "4/4 [==============================] - 0s 2ms/step - loss: 0.6896 - accuracy: 0.5556\n",
            "Epoch 53/200\n",
            "4/4 [==============================] - 0s 5ms/step - loss: 0.6885 - accuracy: 0.5556\n",
            "Epoch 54/200\n",
            "4/4 [==============================] - 0s 2ms/step - loss: 0.6893 - accuracy: 0.5556\n",
            "Epoch 55/200\n",
            "4/4 [==============================] - 0s 4ms/step - loss: 0.6897 - accuracy: 0.5556\n",
            "Epoch 56/200\n",
            "4/4 [==============================] - 0s 3ms/step - loss: 0.6888 - accuracy: 0.5556\n",
            "Epoch 57/200\n",
            "4/4 [==============================] - 0s 3ms/step - loss: 0.6889 - accuracy: 0.5556\n",
            "Epoch 58/200\n",
            "4/4 [==============================] - 0s 2ms/step - loss: 0.6885 - accuracy: 0.5556\n",
            "Epoch 59/200\n",
            "4/4 [==============================] - 0s 2ms/step - loss: 0.6882 - accuracy: 0.5556\n",
            "Epoch 60/200\n",
            "4/4 [==============================] - 0s 2ms/step - loss: 0.6892 - accuracy: 0.5556\n",
            "Epoch 61/200\n",
            "4/4 [==============================] - 0s 2ms/step - loss: 0.6883 - accuracy: 0.5556\n",
            "Epoch 62/200\n",
            "4/4 [==============================] - 0s 2ms/step - loss: 0.6883 - accuracy: 0.5556\n",
            "Epoch 63/200\n",
            "4/4 [==============================] - 0s 2ms/step - loss: 0.6904 - accuracy: 0.5556\n",
            "Epoch 64/200\n",
            "4/4 [==============================] - 0s 2ms/step - loss: 0.6895 - accuracy: 0.5556\n",
            "Epoch 65/200\n",
            "4/4 [==============================] - 0s 3ms/step - loss: 0.6887 - accuracy: 0.5556\n",
            "Epoch 66/200\n",
            "4/4 [==============================] - 0s 2ms/step - loss: 0.6884 - accuracy: 0.5556\n",
            "Epoch 67/200\n",
            "4/4 [==============================] - 0s 2ms/step - loss: 0.6878 - accuracy: 0.5556\n",
            "Epoch 68/200\n",
            "4/4 [==============================] - 0s 2ms/step - loss: 0.6874 - accuracy: 0.5556\n",
            "Epoch 69/200\n",
            "4/4 [==============================] - 0s 2ms/step - loss: 0.6886 - accuracy: 0.5556\n",
            "Epoch 70/200\n",
            "4/4 [==============================] - 0s 2ms/step - loss: 0.6874 - accuracy: 0.5556\n",
            "Epoch 71/200\n",
            "4/4 [==============================] - 0s 2ms/step - loss: 0.6879 - accuracy: 0.5556\n",
            "Epoch 72/200\n",
            "4/4 [==============================] - 0s 2ms/step - loss: 0.6889 - accuracy: 0.5556\n",
            "Epoch 73/200\n",
            "4/4 [==============================] - 0s 2ms/step - loss: 0.6885 - accuracy: 0.5556\n",
            "Epoch 74/200\n",
            "4/4 [==============================] - 0s 2ms/step - loss: 0.6869 - accuracy: 0.5556\n",
            "Epoch 75/200\n",
            "4/4 [==============================] - 0s 2ms/step - loss: 0.6873 - accuracy: 0.5556\n",
            "Epoch 76/200\n",
            "4/4 [==============================] - 0s 2ms/step - loss: 0.6886 - accuracy: 0.5556\n",
            "Epoch 77/200\n",
            "4/4 [==============================] - 0s 2ms/step - loss: 0.6892 - accuracy: 0.5556\n",
            "Epoch 78/200\n",
            "4/4 [==============================] - 0s 2ms/step - loss: 0.6894 - accuracy: 0.5556\n",
            "Epoch 79/200\n",
            "4/4 [==============================] - 0s 4ms/step - loss: 0.6877 - accuracy: 0.5556\n",
            "Epoch 80/200\n",
            "4/4 [==============================] - 0s 4ms/step - loss: 0.6893 - accuracy: 0.5556\n",
            "Epoch 81/200\n",
            "4/4 [==============================] - 0s 3ms/step - loss: 0.6890 - accuracy: 0.5556\n",
            "Epoch 82/200\n",
            "4/4 [==============================] - 0s 2ms/step - loss: 0.6875 - accuracy: 0.5556\n",
            "Epoch 83/200\n",
            "4/4 [==============================] - 0s 2ms/step - loss: 0.6890 - accuracy: 0.5556\n",
            "Epoch 84/200\n",
            "4/4 [==============================] - 0s 2ms/step - loss: 0.6887 - accuracy: 0.5556\n",
            "Epoch 85/200\n",
            "4/4 [==============================] - 0s 2ms/step - loss: 0.6887 - accuracy: 0.5556\n",
            "Epoch 86/200\n",
            "4/4 [==============================] - 0s 4ms/step - loss: 0.6880 - accuracy: 0.5556\n",
            "Epoch 87/200\n",
            "4/4 [==============================] - 0s 2ms/step - loss: 0.6882 - accuracy: 0.5556\n",
            "Epoch 88/200\n",
            "4/4 [==============================] - 0s 2ms/step - loss: 0.6875 - accuracy: 0.5556\n",
            "Epoch 89/200\n",
            "4/4 [==============================] - 0s 2ms/step - loss: 0.6878 - accuracy: 0.5556\n",
            "Epoch 90/200\n",
            "4/4 [==============================] - 0s 2ms/step - loss: 0.6874 - accuracy: 0.5556\n",
            "Epoch 91/200\n",
            "4/4 [==============================] - 0s 2ms/step - loss: 0.6867 - accuracy: 0.5556\n",
            "Epoch 92/200\n",
            "4/4 [==============================] - 0s 2ms/step - loss: 0.6870 - accuracy: 0.5556\n",
            "Epoch 93/200\n",
            "4/4 [==============================] - 0s 2ms/step - loss: 0.6876 - accuracy: 0.5556\n",
            "Epoch 94/200\n",
            "4/4 [==============================] - 0s 4ms/step - loss: 0.6874 - accuracy: 0.5556\n",
            "Epoch 95/200\n",
            "4/4 [==============================] - 0s 3ms/step - loss: 0.6892 - accuracy: 0.5556\n",
            "Epoch 96/200\n",
            "4/4 [==============================] - 0s 2ms/step - loss: 0.6878 - accuracy: 0.5556\n",
            "Epoch 97/200\n",
            "4/4 [==============================] - 0s 2ms/step - loss: 0.6887 - accuracy: 0.5556\n",
            "Epoch 98/200\n",
            "4/4 [==============================] - 0s 2ms/step - loss: 0.6895 - accuracy: 0.5556\n",
            "Epoch 99/200\n",
            "4/4 [==============================] - 0s 2ms/step - loss: 0.6884 - accuracy: 0.5556\n",
            "Epoch 100/200\n",
            "4/4 [==============================] - 0s 2ms/step - loss: 0.6883 - accuracy: 0.5556\n",
            "Epoch 101/200\n",
            "4/4 [==============================] - 0s 2ms/step - loss: 0.6897 - accuracy: 0.5556\n",
            "Epoch 102/200\n",
            "4/4 [==============================] - 0s 2ms/step - loss: 0.6875 - accuracy: 0.5556\n",
            "Epoch 103/200\n",
            "4/4 [==============================] - 0s 2ms/step - loss: 0.6872 - accuracy: 0.5556\n",
            "Epoch 104/200\n",
            "4/4 [==============================] - 0s 3ms/step - loss: 0.6884 - accuracy: 0.5556\n",
            "Epoch 105/200\n",
            "4/4 [==============================] - 0s 2ms/step - loss: 0.6876 - accuracy: 0.5556\n",
            "Epoch 106/200\n",
            "4/4 [==============================] - 0s 2ms/step - loss: 0.6875 - accuracy: 0.5556\n",
            "Epoch 107/200\n",
            "4/4 [==============================] - 0s 2ms/step - loss: 0.6880 - accuracy: 0.5556\n",
            "Epoch 108/200\n",
            "4/4 [==============================] - 0s 3ms/step - loss: 0.6872 - accuracy: 0.5556\n",
            "Epoch 109/200\n",
            "4/4 [==============================] - 0s 2ms/step - loss: 0.6879 - accuracy: 0.5556\n",
            "Epoch 110/200\n",
            "4/4 [==============================] - 0s 2ms/step - loss: 0.6872 - accuracy: 0.5556\n",
            "Epoch 111/200\n",
            "4/4 [==============================] - 0s 2ms/step - loss: 0.6871 - accuracy: 0.5556\n",
            "Epoch 112/200\n",
            "4/4 [==============================] - 0s 2ms/step - loss: 0.6891 - accuracy: 0.5556\n",
            "Epoch 113/200\n",
            "4/4 [==============================] - 0s 2ms/step - loss: 0.6874 - accuracy: 0.5556\n",
            "Epoch 114/200\n",
            "4/4 [==============================] - 0s 2ms/step - loss: 0.6881 - accuracy: 0.5556\n",
            "Epoch 115/200\n",
            "4/4 [==============================] - 0s 2ms/step - loss: 0.6871 - accuracy: 0.5556\n",
            "Epoch 116/200\n",
            "4/4 [==============================] - 0s 2ms/step - loss: 0.6874 - accuracy: 0.5556\n",
            "Epoch 117/200\n",
            "4/4 [==============================] - 0s 2ms/step - loss: 0.6878 - accuracy: 0.5556\n",
            "Epoch 118/200\n",
            "4/4 [==============================] - 0s 3ms/step - loss: 0.6875 - accuracy: 0.5556\n",
            "Epoch 119/200\n",
            "4/4 [==============================] - 0s 3ms/step - loss: 0.6873 - accuracy: 0.5556\n",
            "Epoch 120/200\n",
            "4/4 [==============================] - 0s 2ms/step - loss: 0.6884 - accuracy: 0.5556\n",
            "Epoch 121/200\n",
            "4/4 [==============================] - 0s 2ms/step - loss: 0.6884 - accuracy: 0.5556\n",
            "Epoch 122/200\n",
            "4/4 [==============================] - 0s 2ms/step - loss: 0.6880 - accuracy: 0.5556\n",
            "Epoch 123/200\n",
            "4/4 [==============================] - 0s 2ms/step - loss: 0.6876 - accuracy: 0.5556\n",
            "Epoch 124/200\n",
            "4/4 [==============================] - 0s 2ms/step - loss: 0.6872 - accuracy: 0.5556\n",
            "Epoch 125/200\n",
            "4/4 [==============================] - 0s 2ms/step - loss: 0.6882 - accuracy: 0.5556\n",
            "Epoch 126/200\n",
            "4/4 [==============================] - 0s 2ms/step - loss: 0.6877 - accuracy: 0.5556\n",
            "Epoch 127/200\n",
            "4/4 [==============================] - 0s 3ms/step - loss: 0.6877 - accuracy: 0.5556\n",
            "Epoch 128/200\n",
            "4/4 [==============================] - 0s 3ms/step - loss: 0.6884 - accuracy: 0.5556\n",
            "Epoch 129/200\n",
            "4/4 [==============================] - 0s 2ms/step - loss: 0.6881 - accuracy: 0.5556\n",
            "Epoch 130/200\n",
            "4/4 [==============================] - 0s 2ms/step - loss: 0.6871 - accuracy: 0.5556\n",
            "Epoch 131/200\n",
            "4/4 [==============================] - 0s 3ms/step - loss: 0.6879 - accuracy: 0.5556\n",
            "Epoch 132/200\n",
            "4/4 [==============================] - 0s 2ms/step - loss: 0.6879 - accuracy: 0.5556\n",
            "Epoch 133/200\n",
            "4/4 [==============================] - 0s 2ms/step - loss: 0.6870 - accuracy: 0.5556\n",
            "Epoch 134/200\n",
            "4/4 [==============================] - 0s 2ms/step - loss: 0.6899 - accuracy: 0.5556\n",
            "Epoch 135/200\n",
            "4/4 [==============================] - 0s 2ms/step - loss: 0.6879 - accuracy: 0.5556\n",
            "Epoch 136/200\n",
            "4/4 [==============================] - 0s 2ms/step - loss: 0.6879 - accuracy: 0.5556\n",
            "Epoch 137/200\n",
            "4/4 [==============================] - 0s 2ms/step - loss: 0.6878 - accuracy: 0.5556\n",
            "Epoch 138/200\n",
            "4/4 [==============================] - 0s 3ms/step - loss: 0.6894 - accuracy: 0.5556\n",
            "Epoch 139/200\n",
            "4/4 [==============================] - 0s 2ms/step - loss: 0.6882 - accuracy: 0.5556\n",
            "Epoch 140/200\n",
            "4/4 [==============================] - 0s 2ms/step - loss: 0.6881 - accuracy: 0.5556\n",
            "Epoch 141/200\n",
            "4/4 [==============================] - 0s 2ms/step - loss: 0.6885 - accuracy: 0.5556\n",
            "Epoch 142/200\n",
            "4/4 [==============================] - 0s 2ms/step - loss: 0.6875 - accuracy: 0.5556\n",
            "Epoch 143/200\n",
            "4/4 [==============================] - 0s 2ms/step - loss: 0.6875 - accuracy: 0.5556\n",
            "Epoch 144/200\n",
            "4/4 [==============================] - 0s 2ms/step - loss: 0.6872 - accuracy: 0.5556\n",
            "Epoch 145/200\n",
            "4/4 [==============================] - 0s 2ms/step - loss: 0.6892 - accuracy: 0.5556\n",
            "Epoch 146/200\n",
            "4/4 [==============================] - 0s 2ms/step - loss: 0.6882 - accuracy: 0.5556\n",
            "Epoch 147/200\n",
            "4/4 [==============================] - 0s 2ms/step - loss: 0.6882 - accuracy: 0.5556\n",
            "Epoch 148/200\n",
            "4/4 [==============================] - 0s 2ms/step - loss: 0.6872 - accuracy: 0.5556\n",
            "Epoch 149/200\n",
            "4/4 [==============================] - 0s 2ms/step - loss: 0.6869 - accuracy: 0.5556\n",
            "Epoch 150/200\n",
            "4/4 [==============================] - 0s 2ms/step - loss: 0.6874 - accuracy: 0.5556\n",
            "Epoch 151/200\n",
            "4/4 [==============================] - 0s 2ms/step - loss: 0.6890 - accuracy: 0.5556\n",
            "Epoch 152/200\n",
            "4/4 [==============================] - 0s 2ms/step - loss: 0.6882 - accuracy: 0.5556\n",
            "Epoch 153/200\n",
            "4/4 [==============================] - 0s 2ms/step - loss: 0.6878 - accuracy: 0.5556\n",
            "Epoch 154/200\n",
            "4/4 [==============================] - 0s 2ms/step - loss: 0.6878 - accuracy: 0.5556\n",
            "Epoch 155/200\n",
            "4/4 [==============================] - 0s 2ms/step - loss: 0.6880 - accuracy: 0.5556\n",
            "Epoch 156/200\n",
            "4/4 [==============================] - 0s 2ms/step - loss: 0.6874 - accuracy: 0.5556\n",
            "Epoch 157/200\n",
            "4/4 [==============================] - 0s 2ms/step - loss: 0.6878 - accuracy: 0.5556\n",
            "Epoch 158/200\n",
            "4/4 [==============================] - 0s 2ms/step - loss: 0.6871 - accuracy: 0.5556\n",
            "Epoch 159/200\n",
            "4/4 [==============================] - 0s 2ms/step - loss: 0.6899 - accuracy: 0.5556\n",
            "Epoch 160/200\n",
            "4/4 [==============================] - 0s 2ms/step - loss: 0.6886 - accuracy: 0.5556\n",
            "Epoch 161/200\n",
            "4/4 [==============================] - 0s 2ms/step - loss: 0.6890 - accuracy: 0.5556\n",
            "Epoch 162/200\n",
            "4/4 [==============================] - 0s 2ms/step - loss: 0.6873 - accuracy: 0.5556\n",
            "Epoch 163/200\n",
            "4/4 [==============================] - 0s 2ms/step - loss: 0.6884 - accuracy: 0.5556\n",
            "Epoch 164/200\n",
            "4/4 [==============================] - 0s 2ms/step - loss: 0.6873 - accuracy: 0.5556\n",
            "Epoch 165/200\n",
            "4/4 [==============================] - 0s 2ms/step - loss: 0.6885 - accuracy: 0.5556\n",
            "Epoch 166/200\n",
            "4/4 [==============================] - 0s 2ms/step - loss: 0.6876 - accuracy: 0.5556\n",
            "Epoch 167/200\n",
            "4/4 [==============================] - 0s 2ms/step - loss: 0.6871 - accuracy: 0.5556\n",
            "Epoch 168/200\n",
            "4/4 [==============================] - 0s 2ms/step - loss: 0.6876 - accuracy: 0.5556\n",
            "Epoch 169/200\n",
            "4/4 [==============================] - 0s 2ms/step - loss: 0.6875 - accuracy: 0.5556\n",
            "Epoch 170/200\n",
            "4/4 [==============================] - 0s 2ms/step - loss: 0.6875 - accuracy: 0.5556\n",
            "Epoch 171/200\n",
            "4/4 [==============================] - 0s 2ms/step - loss: 0.6876 - accuracy: 0.5556\n",
            "Epoch 172/200\n",
            "4/4 [==============================] - 0s 2ms/step - loss: 0.6882 - accuracy: 0.5556\n",
            "Epoch 173/200\n",
            "4/4 [==============================] - 0s 2ms/step - loss: 0.6889 - accuracy: 0.5556\n",
            "Epoch 174/200\n",
            "4/4 [==============================] - 0s 3ms/step - loss: 0.6871 - accuracy: 0.5556\n",
            "Epoch 175/200\n",
            "4/4 [==============================] - 0s 2ms/step - loss: 0.6885 - accuracy: 0.5556\n",
            "Epoch 176/200\n",
            "4/4 [==============================] - 0s 2ms/step - loss: 0.6889 - accuracy: 0.5556\n",
            "Epoch 177/200\n",
            "4/4 [==============================] - 0s 2ms/step - loss: 0.6875 - accuracy: 0.5556\n",
            "Epoch 178/200\n",
            "4/4 [==============================] - 0s 2ms/step - loss: 0.6889 - accuracy: 0.5556\n",
            "Epoch 179/200\n",
            "4/4 [==============================] - 0s 2ms/step - loss: 0.6878 - accuracy: 0.5556\n",
            "Epoch 180/200\n",
            "4/4 [==============================] - 0s 4ms/step - loss: 0.6881 - accuracy: 0.5556\n",
            "Epoch 181/200\n",
            "4/4 [==============================] - 0s 6ms/step - loss: 0.6879 - accuracy: 0.5556\n",
            "Epoch 182/200\n",
            "4/4 [==============================] - 0s 2ms/step - loss: 0.6889 - accuracy: 0.5556\n",
            "Epoch 183/200\n",
            "4/4 [==============================] - 0s 2ms/step - loss: 0.6885 - accuracy: 0.5556\n",
            "Epoch 184/200\n",
            "4/4 [==============================] - 0s 2ms/step - loss: 0.6898 - accuracy: 0.5556\n",
            "Epoch 185/200\n",
            "4/4 [==============================] - 0s 3ms/step - loss: 0.6881 - accuracy: 0.5556\n",
            "Epoch 186/200\n",
            "4/4 [==============================] - 0s 2ms/step - loss: 0.6874 - accuracy: 0.5556\n",
            "Epoch 187/200\n",
            "4/4 [==============================] - 0s 2ms/step - loss: 0.6881 - accuracy: 0.5556\n",
            "Epoch 188/200\n",
            "4/4 [==============================] - 0s 2ms/step - loss: 0.6884 - accuracy: 0.5556\n",
            "Epoch 189/200\n",
            "4/4 [==============================] - 0s 3ms/step - loss: 0.6891 - accuracy: 0.5556\n",
            "Epoch 190/200\n",
            "4/4 [==============================] - 0s 2ms/step - loss: 0.6873 - accuracy: 0.5556\n",
            "Epoch 191/200\n",
            "4/4 [==============================] - 0s 2ms/step - loss: 0.6890 - accuracy: 0.5556\n",
            "Epoch 192/200\n",
            "4/4 [==============================] - 0s 2ms/step - loss: 0.6886 - accuracy: 0.5556\n",
            "Epoch 193/200\n",
            "4/4 [==============================] - 0s 2ms/step - loss: 0.6879 - accuracy: 0.5556\n",
            "Epoch 194/200\n",
            "4/4 [==============================] - 0s 2ms/step - loss: 0.6885 - accuracy: 0.5556\n",
            "Epoch 195/200\n",
            "4/4 [==============================] - 0s 2ms/step - loss: 0.6884 - accuracy: 0.5556\n",
            "Epoch 196/200\n",
            "4/4 [==============================] - 0s 6ms/step - loss: 0.6876 - accuracy: 0.5556\n",
            "Epoch 197/200\n",
            "4/4 [==============================] - 0s 5ms/step - loss: 0.6878 - accuracy: 0.5556\n",
            "Epoch 198/200\n",
            "4/4 [==============================] - 0s 5ms/step - loss: 0.6871 - accuracy: 0.5556\n",
            "Epoch 199/200\n",
            "4/4 [==============================] - 0s 2ms/step - loss: 0.6874 - accuracy: 0.5556\n",
            "Epoch 200/200\n",
            "4/4 [==============================] - 0s 3ms/step - loss: 0.6873 - accuracy: 0.5556\n",
            "WARNING:tensorflow:From /usr/local/lib/python3.6/dist-packages/tensorflow/python/training/tracking/tracking.py:111: Model.state_updates (from tensorflow.python.keras.engine.training) is deprecated and will be removed in a future version.\n",
            "Instructions for updating:\n",
            "This property should not be used in TensorFlow 2.0, as updates are applied automatically.\n",
            "WARNING:tensorflow:From /usr/local/lib/python3.6/dist-packages/tensorflow/python/training/tracking/tracking.py:111: Layer.updates (from tensorflow.python.keras.engine.base_layer) is deprecated and will be removed in a future version.\n",
            "Instructions for updating:\n",
            "This property should not be used in TensorFlow 2.0, as updates are applied automatically.\n",
            "INFO:tensorflow:Assets written to: model_nlp/assets\n"
          ],
          "name": "stdout"
        }
      ]
    },
    {
      "cell_type": "markdown",
      "metadata": {
        "id": "mUf4zVWywk57"
      },
      "source": [
        "#Chatbot"
      ]
    },
    {
      "cell_type": "code",
      "metadata": {
        "id": "oc6PzKEIwxIS"
      },
      "source": [
        "import random\r\n",
        "import json\r\n",
        "import pickle\r\n",
        "import numpy as np"
      ],
      "execution_count": null,
      "outputs": []
    },
    {
      "cell_type": "code",
      "metadata": {
        "id": "kHs1Q49ctrxE"
      },
      "source": [
        "import nltk\r\n",
        "from nltk.stem import WordNetLemmatizer"
      ],
      "execution_count": null,
      "outputs": []
    },
    {
      "cell_type": "code",
      "metadata": {
        "id": "bUmXYI7pxCVG"
      },
      "source": [
        "from tensorflow.keras.models import load_model"
      ],
      "execution_count": null,
      "outputs": []
    },
    {
      "cell_type": "code",
      "metadata": {
        "colab": {
          "base_uri": "https://localhost:8080/"
        },
        "id": "IIymTRvOxOIk",
        "outputId": "30cc27fb-4c0b-4738-bbf2-a32f22375afc"
      },
      "source": [
        "lemmatizer = WordNetLemmatizer()\r\n",
        "intents = dados\r\n",
        "intents"
      ],
      "execution_count": null,
      "outputs": [
        {
          "output_type": "execute_result",
          "data": {
            "text/plain": [
              "{'intents': [{'patterns': ['Hello',\n",
              "    'hey',\n",
              "    'HI?',\n",
              "    'good day',\n",
              "    'hi good morning?'],\n",
              "   'responses': ['Hellou!', 'what can i do for you?'],\n",
              "   'tag': 'greetings'},\n",
              "  {'patterns': ['goodbye', 'cya', 'see you', 'bye'],\n",
              "   'responses': ['Goodbye!'],\n",
              "   'tag': 'goodbye'}]}"
            ]
          },
          "metadata": {
            "tags": []
          },
          "execution_count": 18
        }
      ]
    },
    {
      "cell_type": "code",
      "metadata": {
        "id": "VfcGqMttx6I0"
      },
      "source": [
        "words = pickle.load(open(\"words.pkl\", \"rb\"))\r\n",
        "classes = pickle.load(open(\"classes.pkl\", \"rb\"))"
      ],
      "execution_count": null,
      "outputs": []
    },
    {
      "cell_type": "code",
      "metadata": {
        "id": "gEELUg9eztaM"
      },
      "source": [
        "model = load_model('model_nlp')"
      ],
      "execution_count": null,
      "outputs": []
    },
    {
      "cell_type": "code",
      "metadata": {
        "id": "pPt1b5zo1Dc7"
      },
      "source": [
        "def clear_sentence(sentence):\r\n",
        "  sentence_words = nltk.word_tokenize(sentence)\r\n",
        "  sentence_words = [lemmatizer.lemmatize(word) for word in sentence_words]\r\n",
        "  return sentence_words\r\n",
        "\r\n",
        "def bag_of_words(sentence):\r\n",
        "  sentence_words = clear_sentence(sentence)\r\n",
        "  bag = [0] * len(words)\r\n",
        "  for w in sentence_words:\r\n",
        "    for i, word in enumerate(words):\r\n",
        "      if word == w:\r\n",
        "        bag[i] = 1\r\n",
        "  return np.array(bag)\r\n",
        "\r\n",
        "def predict_class(sentence):\r\n",
        "  bow = bag_of_words(sentence)\r\n",
        "  res = model.predict(np.array([bow]))[0]\r\n",
        "  ERROR_THRESHOLD = 0.25\r\n",
        "  results = [[i,r] for i,r in enumerate(res) if r > ERROR_THRESHOLD]\r\n",
        "\r\n",
        "  results.sort(key=lambda x: x[1], reverse=True)\r\n",
        "  return_list = []\r\n",
        "  for r in results:\r\n",
        "    return_list.append({'intent': classes[r[0]], 'probability': str(r[1])})\r\n",
        "  return return_list\r\n",
        "\r\n",
        "def get_response(intents_list, intents_json):\r\n",
        "  tag = intents_list[0]['intent']\r\n",
        "  list_of_intents = intents_json['intents']\r\n",
        "  for i in list_of_intents:\r\n",
        "    if i['tag'] == tag:\r\n",
        "      result = random.choice(i['responses'])\r\n",
        "      break\r\n",
        "  return result"
      ],
      "execution_count": null,
      "outputs": []
    },
    {
      "cell_type": "code",
      "metadata": {
        "colab": {
          "base_uri": "https://localhost:8080/",
          "height": 572
        },
        "id": "qndzWNXW7c-k",
        "outputId": "6bc112eb-6daa-454e-ecd6-a8adba9090f7"
      },
      "source": [
        "while True:\r\n",
        "  message = input(\"\")\r\n",
        "  ints = predict_class(message)\r\n",
        "  res = get_response(ints, intents)\r\n",
        "  print(res)"
      ],
      "execution_count": null,
      "outputs": [
        {
          "output_type": "stream",
          "text": [
            "Hellou!\n",
            "good\n",
            "what can i do for you?\n"
          ],
          "name": "stdout"
        },
        {
          "output_type": "error",
          "ename": "KeyboardInterrupt",
          "evalue": "ignored",
          "traceback": [
            "\u001b[0;31m---------------------------------------------------------------------------\u001b[0m",
            "\u001b[0;31mKeyboardInterrupt\u001b[0m                         Traceback (most recent call last)",
            "\u001b[0;32m/usr/local/lib/python3.6/dist-packages/ipykernel/kernelbase.py\u001b[0m in \u001b[0;36m_input_request\u001b[0;34m(self, prompt, ident, parent, password)\u001b[0m\n\u001b[1;32m    728\u001b[0m             \u001b[0;32mtry\u001b[0m\u001b[0;34m:\u001b[0m\u001b[0;34m\u001b[0m\u001b[0;34m\u001b[0m\u001b[0m\n\u001b[0;32m--> 729\u001b[0;31m                 \u001b[0mident\u001b[0m\u001b[0;34m,\u001b[0m \u001b[0mreply\u001b[0m \u001b[0;34m=\u001b[0m \u001b[0mself\u001b[0m\u001b[0;34m.\u001b[0m\u001b[0msession\u001b[0m\u001b[0;34m.\u001b[0m\u001b[0mrecv\u001b[0m\u001b[0;34m(\u001b[0m\u001b[0mself\u001b[0m\u001b[0;34m.\u001b[0m\u001b[0mstdin_socket\u001b[0m\u001b[0;34m,\u001b[0m \u001b[0;36m0\u001b[0m\u001b[0;34m)\u001b[0m\u001b[0;34m\u001b[0m\u001b[0;34m\u001b[0m\u001b[0m\n\u001b[0m\u001b[1;32m    730\u001b[0m             \u001b[0;32mexcept\u001b[0m \u001b[0mException\u001b[0m\u001b[0;34m:\u001b[0m\u001b[0;34m\u001b[0m\u001b[0;34m\u001b[0m\u001b[0m\n",
            "\u001b[0;32m/usr/local/lib/python3.6/dist-packages/jupyter_client/session.py\u001b[0m in \u001b[0;36mrecv\u001b[0;34m(self, socket, mode, content, copy)\u001b[0m\n\u001b[1;32m    802\u001b[0m         \u001b[0;32mtry\u001b[0m\u001b[0;34m:\u001b[0m\u001b[0;34m\u001b[0m\u001b[0;34m\u001b[0m\u001b[0m\n\u001b[0;32m--> 803\u001b[0;31m             \u001b[0mmsg_list\u001b[0m \u001b[0;34m=\u001b[0m \u001b[0msocket\u001b[0m\u001b[0;34m.\u001b[0m\u001b[0mrecv_multipart\u001b[0m\u001b[0;34m(\u001b[0m\u001b[0mmode\u001b[0m\u001b[0;34m,\u001b[0m \u001b[0mcopy\u001b[0m\u001b[0;34m=\u001b[0m\u001b[0mcopy\u001b[0m\u001b[0;34m)\u001b[0m\u001b[0;34m\u001b[0m\u001b[0;34m\u001b[0m\u001b[0m\n\u001b[0m\u001b[1;32m    804\u001b[0m         \u001b[0;32mexcept\u001b[0m \u001b[0mzmq\u001b[0m\u001b[0;34m.\u001b[0m\u001b[0mZMQError\u001b[0m \u001b[0;32mas\u001b[0m \u001b[0me\u001b[0m\u001b[0;34m:\u001b[0m\u001b[0;34m\u001b[0m\u001b[0;34m\u001b[0m\u001b[0m\n",
            "\u001b[0;32m/usr/local/lib/python3.6/dist-packages/zmq/sugar/socket.py\u001b[0m in \u001b[0;36mrecv_multipart\u001b[0;34m(self, flags, copy, track)\u001b[0m\n\u001b[1;32m    565\u001b[0m         \"\"\"\n\u001b[0;32m--> 566\u001b[0;31m         \u001b[0mparts\u001b[0m \u001b[0;34m=\u001b[0m \u001b[0;34m[\u001b[0m\u001b[0mself\u001b[0m\u001b[0;34m.\u001b[0m\u001b[0mrecv\u001b[0m\u001b[0;34m(\u001b[0m\u001b[0mflags\u001b[0m\u001b[0;34m,\u001b[0m \u001b[0mcopy\u001b[0m\u001b[0;34m=\u001b[0m\u001b[0mcopy\u001b[0m\u001b[0;34m,\u001b[0m \u001b[0mtrack\u001b[0m\u001b[0;34m=\u001b[0m\u001b[0mtrack\u001b[0m\u001b[0;34m)\u001b[0m\u001b[0;34m]\u001b[0m\u001b[0;34m\u001b[0m\u001b[0;34m\u001b[0m\u001b[0m\n\u001b[0m\u001b[1;32m    567\u001b[0m         \u001b[0;31m# have first part already, only loop while more to receive\u001b[0m\u001b[0;34m\u001b[0m\u001b[0;34m\u001b[0m\u001b[0;34m\u001b[0m\u001b[0m\n",
            "\u001b[0;32mzmq/backend/cython/socket.pyx\u001b[0m in \u001b[0;36mzmq.backend.cython.socket.Socket.recv\u001b[0;34m()\u001b[0m\n",
            "\u001b[0;32mzmq/backend/cython/socket.pyx\u001b[0m in \u001b[0;36mzmq.backend.cython.socket.Socket.recv\u001b[0;34m()\u001b[0m\n",
            "\u001b[0;32mzmq/backend/cython/socket.pyx\u001b[0m in \u001b[0;36mzmq.backend.cython.socket._recv_copy\u001b[0;34m()\u001b[0m\n",
            "\u001b[0;32m/usr/local/lib/python3.6/dist-packages/zmq/backend/cython/checkrc.pxd\u001b[0m in \u001b[0;36mzmq.backend.cython.checkrc._check_rc\u001b[0;34m()\u001b[0m\n",
            "\u001b[0;31mKeyboardInterrupt\u001b[0m: ",
            "\nDuring handling of the above exception, another exception occurred:\n",
            "\u001b[0;31mKeyboardInterrupt\u001b[0m                         Traceback (most recent call last)",
            "\u001b[0;32m<ipython-input-22-c6b8ca17239c>\u001b[0m in \u001b[0;36m<module>\u001b[0;34m()\u001b[0m\n\u001b[1;32m      1\u001b[0m \u001b[0;32mwhile\u001b[0m \u001b[0;32mTrue\u001b[0m\u001b[0;34m:\u001b[0m\u001b[0;34m\u001b[0m\u001b[0;34m\u001b[0m\u001b[0m\n\u001b[0;32m----> 2\u001b[0;31m   \u001b[0mmessage\u001b[0m \u001b[0;34m=\u001b[0m \u001b[0minput\u001b[0m\u001b[0;34m(\u001b[0m\u001b[0;34m\"\"\u001b[0m\u001b[0;34m)\u001b[0m\u001b[0;34m\u001b[0m\u001b[0;34m\u001b[0m\u001b[0m\n\u001b[0m\u001b[1;32m      3\u001b[0m   \u001b[0mints\u001b[0m \u001b[0;34m=\u001b[0m \u001b[0mpredict_class\u001b[0m\u001b[0;34m(\u001b[0m\u001b[0mmessage\u001b[0m\u001b[0;34m)\u001b[0m\u001b[0;34m\u001b[0m\u001b[0;34m\u001b[0m\u001b[0m\n\u001b[1;32m      4\u001b[0m   \u001b[0mres\u001b[0m \u001b[0;34m=\u001b[0m \u001b[0mget_response\u001b[0m\u001b[0;34m(\u001b[0m\u001b[0mints\u001b[0m\u001b[0;34m,\u001b[0m \u001b[0mintents\u001b[0m\u001b[0;34m)\u001b[0m\u001b[0;34m\u001b[0m\u001b[0;34m\u001b[0m\u001b[0m\n\u001b[1;32m      5\u001b[0m   \u001b[0mprint\u001b[0m\u001b[0;34m(\u001b[0m\u001b[0mres\u001b[0m\u001b[0;34m)\u001b[0m\u001b[0;34m\u001b[0m\u001b[0;34m\u001b[0m\u001b[0m\n",
            "\u001b[0;32m/usr/local/lib/python3.6/dist-packages/ipykernel/kernelbase.py\u001b[0m in \u001b[0;36mraw_input\u001b[0;34m(self, prompt)\u001b[0m\n\u001b[1;32m    702\u001b[0m             \u001b[0mself\u001b[0m\u001b[0;34m.\u001b[0m\u001b[0m_parent_ident\u001b[0m\u001b[0;34m,\u001b[0m\u001b[0;34m\u001b[0m\u001b[0;34m\u001b[0m\u001b[0m\n\u001b[1;32m    703\u001b[0m             \u001b[0mself\u001b[0m\u001b[0;34m.\u001b[0m\u001b[0m_parent_header\u001b[0m\u001b[0;34m,\u001b[0m\u001b[0;34m\u001b[0m\u001b[0;34m\u001b[0m\u001b[0m\n\u001b[0;32m--> 704\u001b[0;31m             \u001b[0mpassword\u001b[0m\u001b[0;34m=\u001b[0m\u001b[0;32mFalse\u001b[0m\u001b[0;34m,\u001b[0m\u001b[0;34m\u001b[0m\u001b[0;34m\u001b[0m\u001b[0m\n\u001b[0m\u001b[1;32m    705\u001b[0m         )\n\u001b[1;32m    706\u001b[0m \u001b[0;34m\u001b[0m\u001b[0m\n",
            "\u001b[0;32m/usr/local/lib/python3.6/dist-packages/ipykernel/kernelbase.py\u001b[0m in \u001b[0;36m_input_request\u001b[0;34m(self, prompt, ident, parent, password)\u001b[0m\n\u001b[1;32m    732\u001b[0m             \u001b[0;32mexcept\u001b[0m \u001b[0mKeyboardInterrupt\u001b[0m\u001b[0;34m:\u001b[0m\u001b[0;34m\u001b[0m\u001b[0;34m\u001b[0m\u001b[0m\n\u001b[1;32m    733\u001b[0m                 \u001b[0;31m# re-raise KeyboardInterrupt, to truncate traceback\u001b[0m\u001b[0;34m\u001b[0m\u001b[0;34m\u001b[0m\u001b[0;34m\u001b[0m\u001b[0m\n\u001b[0;32m--> 734\u001b[0;31m                 \u001b[0;32mraise\u001b[0m \u001b[0mKeyboardInterrupt\u001b[0m\u001b[0;34m\u001b[0m\u001b[0;34m\u001b[0m\u001b[0m\n\u001b[0m\u001b[1;32m    735\u001b[0m             \u001b[0;32melse\u001b[0m\u001b[0;34m:\u001b[0m\u001b[0;34m\u001b[0m\u001b[0;34m\u001b[0m\u001b[0m\n\u001b[1;32m    736\u001b[0m                 \u001b[0;32mbreak\u001b[0m\u001b[0;34m\u001b[0m\u001b[0;34m\u001b[0m\u001b[0m\n",
            "\u001b[0;31mKeyboardInterrupt\u001b[0m: "
          ]
        }
      ]
    }
  ]
}